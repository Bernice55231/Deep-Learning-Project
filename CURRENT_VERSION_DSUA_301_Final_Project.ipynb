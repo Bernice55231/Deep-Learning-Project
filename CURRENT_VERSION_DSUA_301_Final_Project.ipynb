{
  "nbformat": 4,
  "nbformat_minor": 0,
  "metadata": {
    "colab": {
      "name": "CURRENT_VERSION_DSUA_301_Final_Project.ipynb",
      "provenance": [],
      "collapsed_sections": [],
      "machine_shape": "hm"
    },
    "kernelspec": {
      "name": "python3",
      "display_name": "Python 3"
    },
    "language_info": {
      "name": "python"
    },
    "accelerator": "GPU"
  },
  "cells": [
    {
      "cell_type": "markdown",
      "source": [
        "# Setup"
      ],
      "metadata": {
        "id": "GQ8vzWXWYtsU"
      }
    },
    {
      "cell_type": "code",
      "source": [
        "%%capture\n",
        "!rm -rf sample_data imagenet_class_index.json\n",
        "!wget -O imagenet_class_index.json https://s3.amazonaws.com/deep-learning-models/image-models/imagenet_class_index.json"
      ],
      "metadata": {
        "id": "gvl_UgG1xU_z"
      },
      "execution_count": null,
      "outputs": []
    },
    {
      "cell_type": "code",
      "execution_count": null,
      "metadata": {
        "id": "9FugqOuRrGu8"
      },
      "outputs": [],
      "source": [
        "import os\n",
        "import json\n",
        "import numpy as np\n",
        "\n",
        "import tensorflow as tf\n",
        "import tensorflow_datasets as tfds\n",
        "# https://www.tensorflow.org/api_docs/python/tf/data/Dataset#sample_from_datasets\n",
        "\n",
        "import matplotlib as mpl\n",
        "import matplotlib.pyplot as plt\n",
        "\n",
        "from sklearn.model_selection import train_test_split\n",
        "\n",
        "mpl.rcParams['figure.figsize'] = (8, 8)\n",
        "mpl.rcParams['axes.grid'] = False\n",
        "\n",
        "SEED = 301"
      ]
    },
    {
      "cell_type": "code",
      "source": [
        "index_label_map = json.load(open('imagenet_class_index.json', 'r'))"
      ],
      "metadata": {
        "id": "5rJluRdoxd-y"
      },
      "execution_count": null,
      "outputs": []
    },
    {
      "cell_type": "markdown",
      "source": [
        "# Load and Process Dataset"
      ],
      "metadata": {
        "id": "z5n51hmpViID"
      }
    },
    {
      "cell_type": "code",
      "source": [
        "# Helper function to preprocess the image so that it can be inputted in MobileNetV2\n",
        "def preprocess(image, label=None):\n",
        "  image = tf.cast(image, tf.float32)\n",
        "  image = tf.image.resize(image, (224, 224))\n",
        "  image = tf.keras.applications.mobilenet_v2.preprocess_input(image)\n",
        "\n",
        "  return (image, label)\n",
        "\n",
        "# Helper function to extract labels from probability vector\n",
        "def get_imagenet_label(probs):\n",
        "  return decode_predictions(probs, top=1)[0][0]"
      ],
      "metadata": {
        "id": "rDq8QJL_rA3u"
      },
      "execution_count": null,
      "outputs": []
    },
    {
      "cell_type": "code",
      "source": [
        "# Construct a tf.data.Dataset\n",
        "imagenet_r_train = tfds.load('imagenet_r', data_dir='data', split='test[:80%]', shuffle_files=True, as_supervised=True, try_gcs=True)\n",
        "imagenet_r_test = tfds.load('imagenet_r', data_dir='data', split='test[80%:]', shuffle_files=True, as_supervised=True, try_gcs=True)\n",
        "\n",
        "print(\"Training set size:\", len(imagenet_r_train))\n",
        "print(\"Test set size:\", len(imagenet_r_test))\n",
        "\n",
        "imagenet_r_train = imagenet_r_train.map(preprocess)\n",
        "imagenet_r_test = imagenet_r_test.map(preprocess)\n",
        "\n",
        "imagenet_r_train = imagenet_r_train.shuffle(len(imagenet_r_train))\n",
        "imagenet_r_train = imagenet_r_train.cache()\n",
        "imagenet_r_train = imagenet_r_train.batch(128)\n",
        "imagenet_r_train = imagenet_r_train.prefetch(tf.data.AUTOTUNE)\n",
        "\n",
        "imagenet_r_test = imagenet_r_test.shuffle(len(imagenet_r_test))\n",
        "imagenet_r_test = imagenet_r_test.batch(128)\n",
        "imagenet_r_test = imagenet_r_test.prefetch(tf.data.AUTOTUNE)"
      ],
      "metadata": {
        "id": "4xqLXR1QpGin",
        "colab": {
          "base_uri": "https://localhost:8080/"
        },
        "outputId": "2ce3189d-6a04-4d37-d3f2-2cad96a33dcb"
      },
      "execution_count": null,
      "outputs": [
        {
          "output_type": "stream",
          "name": "stdout",
          "text": [
            "Training set size: 24000\n",
            "Test set size: 6000\n"
          ]
        }
      ]
    },
    {
      "cell_type": "markdown",
      "source": [
        "# Load Pre-trained Model"
      ],
      "metadata": {
        "id": "trp-puEY6VZL"
      }
    },
    {
      "cell_type": "code",
      "source": [
        "learning_rate = 0.0001\n",
        "epochs = 2\n",
        "\n",
        "performance_history = {}"
      ],
      "metadata": {
        "id": "6Ws_d-X6lYyE"
      },
      "execution_count": null,
      "outputs": []
    },
    {
      "cell_type": "code",
      "source": [
        "pretrained_model = tf.keras.applications.MobileNetV2(include_top=True, weights='imagenet')\n",
        "pretrained_model.trainable = False\n",
        "\n",
        "pretrained_model.compile(\n",
        "    optimizer=tf.keras.optimizers.Adam(learning_rate),\n",
        "    loss=tf.keras.losses.SparseCategoricalCrossentropy(),\n",
        "    # metrics=[tf.keras.metrics.SparseCategoricalAccuracy()],\n",
        "    metrics=['accuracy']\n",
        ")\n",
        "\n",
        "# ImageNet labels\n",
        "decode_predictions = tf.keras.applications.mobilenet_v2.decode_predictions"
      ],
      "metadata": {
        "id": "XhrxYl42r0lD"
      },
      "execution_count": null,
      "outputs": []
    },
    {
      "cell_type": "code",
      "source": [
        "loss0, accuracy0 = pretrained_model.evaluate(imagenet_r_test)\n",
        "print(\"BaseA Model Initial Loss: {:.4f}\".format(loss0))\n",
        "print(\"BaseA Model Initial Accuracy: {:.4f}\".format(accuracy0))"
      ],
      "metadata": {
        "colab": {
          "base_uri": "https://localhost:8080/"
        },
        "id": "6oVyc_UFhXQA",
        "outputId": "61ae2388-a7bb-4e6e-d1ba-61b8c83457b2"
      },
      "execution_count": null,
      "outputs": [
        {
          "output_type": "stream",
          "name": "stdout",
          "text": [
            "47/47 [==============================] - 24s 176ms/step - loss: 5.2801 - accuracy: 0.2070\n",
            "BaseA Model Initial Loss: 5.2801\n",
            "BaseA Model Initial Accuracy: 0.2070\n"
          ]
        }
      ]
    },
    {
      "cell_type": "markdown",
      "source": [
        "# Train Base Model"
      ],
      "metadata": {
        "id": "GnkrGTxCa343"
      }
    },
    {
      "cell_type": "code",
      "source": [
        "base_model = tf.keras.applications.MobileNetV2(include_top=True)\n",
        "\n",
        "base_model.compile(\n",
        "    optimizer=tf.keras.optimizers.Adam(learning_rate),\n",
        "    loss=tf.keras.losses.SparseCategoricalCrossentropy(),\n",
        "    metrics=['accuracy']\n",
        ")"
      ],
      "metadata": {
        "id": "Yx-MyaW0cNFj"
      },
      "execution_count": null,
      "outputs": []
    },
    {
      "cell_type": "code",
      "source": [
        "base_history = base_model.fit(imagenet_r_train, epochs=epochs, validation_data=imagenet_r_test)\n",
        "performance_history['base'] = base_history.history"
      ],
      "metadata": {
        "colab": {
          "base_uri": "https://localhost:8080/"
        },
        "id": "yhya1e4SsYm4",
        "outputId": "438c1bc0-b9e3-4b48-968a-a3d5531f972d"
      },
      "execution_count": null,
      "outputs": [
        {
          "output_type": "stream",
          "name": "stdout",
          "text": [
            "Epoch 1/2\n",
            "188/188 [==============================] - 226s 931ms/step - loss: 2.4260 - accuracy: 0.5015 - val_loss: 2.1776 - val_accuracy: 0.5207\n",
            "Epoch 2/2\n",
            "188/188 [==============================] - 170s 905ms/step - loss: 1.1818 - accuracy: 0.7283 - val_loss: 2.0049 - val_accuracy: 0.5492\n"
          ]
        }
      ]
    },
    {
      "cell_type": "markdown",
      "source": [
        "---"
      ],
      "metadata": {
        "id": "MpfUx0npNwQC"
      }
    },
    {
      "cell_type": "markdown",
      "source": [
        "# Transfer Learning Model"
      ],
      "metadata": {
        "id": "3VRJ2GWOVqYM"
      }
    },
    {
      "cell_type": "code",
      "source": [
        "def get_a_n_b(pretrained_model, n_layers_to_copy, freeze, training_data, validation_data):\n",
        "  local_model = None\n",
        "  local_model = tf.keras.applications.MobileNetV2(include_top=True)\n",
        "  local_model.trainable = True\n",
        "\n",
        "  for i in range(n_layers_to_copy + 1):\n",
        "    local_model.layers[i].set_weights(pretrained_model.layers[i].get_weights())\n",
        "    if freeze:\n",
        "      local_model.layers[i].trainable = False\n",
        "    else:\n",
        "      local_model.layers[i].trainable = True\n",
        "    \n",
        "  for i in range(n_layers_to_copy + 1, len(local_model.layers)):\n",
        "    assert(local_model.layers[i].trainable == True)\n",
        "\n",
        "  local_model.compile(\n",
        "    optimizer = tf.keras.optimizers.RMSprop(learning_rate=learning_rate / 10),\n",
        "    loss = tf.keras.losses.SparseCategoricalCrossentropy(),\n",
        "    metrics=['accuracy']\n",
        "  )\n",
        "\n",
        "  return local_model"
      ],
      "metadata": {
        "id": "-oraEunRV5bt"
      },
      "execution_count": null,
      "outputs": []
    },
    {
      "cell_type": "code",
      "source": [
        "print('A_4blocks_B:')\n",
        "A_4blocks_B = get_a_n_b(pretrained_model=pretrained_model, n_layers_to_copy=44, freeze=False, training_data=imagenet_r_train, validation_data=imagenet_r_test)\n",
        "A_4blocks_B_history = A_4blocks_B.fit(imagenet_r_train, epochs=epochs, validation_data=imagenet_r_test)\n",
        "performance_history['A_4blocks_B'] = A_4blocks_B_history.history\n",
        "\n",
        "print('\\nA_4blocks_B_freeze')\n",
        "A_4blocks_B_freeze = get_a_n_b(pretrained_model=pretrained_model, n_layers_to_copy=44, freeze=True, training_data=imagenet_r_train, validation_data=imagenet_r_test)\n",
        "A_4blocks_B_freeze_history = A_4blocks_B_freeze.fit(imagenet_r_train, epochs=epochs, validation_data=imagenet_r_test)\n",
        "performance_history['A_4blocks_B_freeze'] = A_4blocks_B_freeze_history.history\n",
        "\n",
        "\n",
        "print('\\nA_8blocks_B')\n",
        "A_8blocks_B = get_a_n_b(pretrained_model=pretrained_model, n_layers_to_copy=80, freeze=False, training_data=imagenet_r_train, validation_data=imagenet_r_test)\n",
        "A_8blocks_B_history = A_8blocks_B.fit(imagenet_r_train, epochs=epochs, validation_data=imagenet_r_test)\n",
        "performance_history['A_8blocks_B'] = A_8blocks_B_history.history\n",
        "\n",
        "print('\\nA_8blocks_B_freeze')\n",
        "A_8blocks_B_freeze = get_a_n_b(pretrained_model=pretrained_model, n_layers_to_copy=80, freeze=True, training_data=imagenet_r_train, validation_data=imagenet_r_test)\n",
        "A_8blocks_B_freeze_history = A_8blocks_B_freeze.fit(imagenet_r_train, epochs=epochs, validation_data=imagenet_r_test)\n",
        "performance_history['A_8blocks_B_freeze'] = A_8blocks_B_freeze_history.history\n",
        "\n",
        "\n",
        "print('\\nA_12blocks_B')\n",
        "A_12blocks_B = get_a_n_b(pretrained_model=pretrained_model, n_layers_to_copy=115, freeze=False, training_data=imagenet_r_train, validation_data=imagenet_r_test)\n",
        "A_12blocks_B_history = A_12blocks_B.fit(imagenet_r_train, epochs=epochs, validation_data=imagenet_r_test)\n",
        "performance_history['A_12blocks_B'] = A_12blocks_B_history.history\n",
        "\n",
        "print('\\nA_12blocks_B_freeze')\n",
        "A_12blocks_B_freeze = get_a_n_b(pretrained_model=pretrained_model, n_layers_to_copy=115, freeze=True, training_data=imagenet_r_train, validation_data=imagenet_r_test)\n",
        "A_12blocks_B_freeze_history = A_12blocks_B_freeze.fit(imagenet_r_train, epochs=epochs, validation_data=imagenet_r_test)\n",
        "performance_history['A_12blocks_B_freeze'] = A_12blocks_B_freeze_history.history\n",
        "\n",
        "\n",
        "print('\\nA_16blocks_B')\n",
        "A_16blocks_B = get_a_n_b(pretrained_model=pretrained_model, n_layers_to_copy=153, freeze=False, training_data=imagenet_r_train, validation_data=imagenet_r_test)\n",
        "A_16blocks_B_history = A_16blocks_B.fit(imagenet_r_train, epochs=epochs, validation_data=imagenet_r_test)\n",
        "performance_history['A_16blocks_B'] = A_16blocks_B_history.history\n",
        "\n",
        "print('\\nA_16blocks_B_freeze')\n",
        "A_16blocks_B_freeze = get_a_n_b(pretrained_model=pretrained_model, n_layers_to_copy=153, freeze=True, training_data=imagenet_r_train, validation_data=imagenet_r_test)\n",
        "A_16blocks_B_freeze_history = A_16blocks_B_freeze.fit(imagenet_r_train, epochs=epochs, validation_data=imagenet_r_test)\n",
        "performance_history['A_16blocks_B_freeze'] = A_16blocks_B_freeze_history.history"
      ],
      "metadata": {
        "colab": {
          "base_uri": "https://localhost:8080/"
        },
        "id": "jDjLMkZ_cD1L",
        "outputId": "ea464e2f-8af0-4f4e-f353-46a2f5d02b9b"
      },
      "execution_count": null,
      "outputs": [
        {
          "output_type": "stream",
          "name": "stdout",
          "text": [
            "A_4blocks_B:\n",
            "Epoch 1/2\n",
            "188/188 [==============================] - 178s 901ms/step - loss: 3.9894 - accuracy: 0.3102 - val_loss: 3.6189 - val_accuracy: 0.3557\n",
            "Epoch 2/2\n",
            "188/188 [==============================] - 168s 894ms/step - loss: 2.9072 - accuracy: 0.4353 - val_loss: 2.8863 - val_accuracy: 0.4323\n",
            "\n",
            "A_4blocks_B_freeze\n",
            "Epoch 1/2\n",
            "188/188 [==============================] - 80s 390ms/step - loss: 3.9932 - accuracy: 0.3084 - val_loss: 3.6713 - val_accuracy: 0.3490\n",
            "Epoch 2/2\n",
            "188/188 [==============================] - 72s 385ms/step - loss: 2.9245 - accuracy: 0.4353 - val_loss: 2.9367 - val_accuracy: 0.4265\n",
            "\n",
            "A_8blocks_B\n",
            "Epoch 1/2\n",
            "188/188 [==============================] - 178s 901ms/step - loss: 3.9894 - accuracy: 0.3102 - val_loss: 3.6192 - val_accuracy: 0.3557\n",
            "Epoch 2/2\n",
            "188/188 [==============================] - 168s 894ms/step - loss: 2.9072 - accuracy: 0.4353 - val_loss: 2.8865 - val_accuracy: 0.4328\n",
            "\n",
            "A_8blocks_B_freeze\n",
            "Epoch 1/2\n",
            "188/188 [==============================] - 70s 343ms/step - loss: 4.0108 - accuracy: 0.3069 - val_loss: 3.7220 - val_accuracy: 0.3443\n",
            "Epoch 2/2\n",
            "188/188 [==============================] - 63s 337ms/step - loss: 2.9793 - accuracy: 0.4267 - val_loss: 2.9873 - val_accuracy: 0.4210\n",
            "\n",
            "A_12blocks_B\n",
            "Epoch 1/2\n",
            "188/188 [==============================] - 177s 895ms/step - loss: 3.9895 - accuracy: 0.3100 - val_loss: 3.6188 - val_accuracy: 0.3562\n",
            "Epoch 2/2\n",
            "188/188 [==============================] - 168s 894ms/step - loss: 2.9071 - accuracy: 0.4353 - val_loss: 2.8865 - val_accuracy: 0.4327\n",
            "\n",
            "A_12blocks_B_freeze\n",
            "Epoch 1/2\n",
            "188/188 [==============================] - 59s 295ms/step - loss: 4.1441 - accuracy: 0.2890 - val_loss: 3.9013 - val_accuracy: 0.3195\n",
            "Epoch 2/2\n",
            "188/188 [==============================] - 54s 290ms/step - loss: 3.1723 - accuracy: 0.3984 - val_loss: 3.2333 - val_accuracy: 0.3870\n",
            "\n",
            "A_16blocks_B\n",
            "Epoch 1/2\n",
            "188/188 [==============================] - 177s 898ms/step - loss: 3.9894 - accuracy: 0.3102 - val_loss: 3.6189 - val_accuracy: 0.3558\n",
            "Epoch 2/2\n",
            "188/188 [==============================] - 168s 892ms/step - loss: 2.9072 - accuracy: 0.4354 - val_loss: 2.8860 - val_accuracy: 0.4328\n",
            "\n",
            "A_16blocks_B_freeze\n",
            "Epoch 1/2\n",
            "188/188 [==============================] - 50s 253ms/step - loss: 4.8973 - accuracy: 0.2287 - val_loss: 4.5298 - val_accuracy: 0.2552\n",
            "Epoch 2/2\n",
            "188/188 [==============================] - 47s 249ms/step - loss: 4.2849 - accuracy: 0.2700 - val_loss: 4.0295 - val_accuracy: 0.2942\n"
          ]
        }
      ]
    },
    {
      "cell_type": "markdown",
      "source": [
        "---"
      ],
      "metadata": {
        "id": "0fFyyX_sYzMi"
      }
    },
    {
      "cell_type": "code",
      "source": [
        "print(performance_history)"
      ],
      "metadata": {
        "colab": {
          "base_uri": "https://localhost:8080/"
        },
        "id": "WY1RoVoitP5Q",
        "outputId": "3b0ab512-4f38-42ee-bd51-44bfecc8510d"
      },
      "execution_count": null,
      "outputs": [
        {
          "output_type": "stream",
          "name": "stdout",
          "text": [
            "{'base': {'loss': [2.426048994064331, 1.1817833185195923], 'accuracy': [0.5015000104904175, 0.7282916903495789], 'val_loss': [2.1775782108306885, 2.0048937797546387], 'val_accuracy': [0.5206666588783264, 0.5491666793823242]}, 'A_4blocks_B': {'loss': [3.989426851272583, 2.9071848392486572], 'accuracy': [0.3101666569709778, 0.43533334136009216], 'val_loss': [3.618946075439453, 2.8862955570220947], 'val_accuracy': [0.3556666672229767, 0.4323333203792572]}, 'A_4blocks_B_freeze': {'loss': [3.9931812286376953, 2.924473524093628], 'accuracy': [0.3084166646003723, 0.43525001406669617], 'val_loss': [3.6713178157806396, 2.93674898147583], 'val_accuracy': [0.3490000069141388, 0.42649999260902405]}, 'A_8blocks_B': {'loss': [3.98937726020813, 2.9072442054748535], 'accuracy': [0.3101666569709778, 0.43533334136009216], 'val_loss': [3.6191940307617188, 2.886542558670044], 'val_accuracy': [0.3556666672229767, 0.43283334374427795]}, 'A_8blocks_B_freeze': {'loss': [4.010810375213623, 2.9792683124542236], 'accuracy': [0.30691665410995483, 0.4266666769981384], 'val_loss': [3.722001552581787, 2.9872992038726807], 'val_accuracy': [0.34433332085609436, 0.42100000381469727]}, 'A_12blocks_B': {'loss': [3.9895315170288086, 2.9071409702301025], 'accuracy': [0.3100000023841858, 0.43533334136009216], 'val_loss': [3.6187968254089355, 2.886488676071167], 'val_accuracy': [0.35616666078567505, 0.4326666593551636]}, 'A_12blocks_B_freeze': {'loss': [4.1440629959106445, 3.172267198562622], 'accuracy': [0.288958340883255, 0.398375004529953], 'val_loss': [3.901293992996216, 3.2332711219787598], 'val_accuracy': [0.31949999928474426, 0.3869999945163727]}, 'A_16blocks_B': {'loss': [3.9894001483917236, 2.907179117202759], 'accuracy': [0.3101666569709778, 0.43537500500679016], 'val_loss': [3.6189401149749756, 2.886016845703125], 'val_accuracy': [0.3558333218097687, 0.43283334374427795]}, 'A_16blocks_B_freeze': {'loss': [4.8973212242126465, 4.284865379333496], 'accuracy': [0.22870832681655884, 0.27000001072883606], 'val_loss': [4.529811382293701, 4.029501438140869], 'val_accuracy': [0.2551666796207428, 0.2941666543483734]}}\n"
          ]
        }
      ]
    }
  ]
}
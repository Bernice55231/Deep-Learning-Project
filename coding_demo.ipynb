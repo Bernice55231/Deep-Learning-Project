{
 "cells": [
  {
   "cell_type": "markdown",
   "metadata": {
    "id": "GQ8vzWXWYtsU"
   },
   "source": [
    "# Setup"
   ]
  },
  {
   "cell_type": "code",
   "execution_count": 1,
   "metadata": {
    "colab": {
     "base_uri": "https://localhost:8080/"
    },
    "id": "uexPY4c9ak9Q",
    "outputId": "4d652fee-997c-433c-a0c0-f85c162630f0"
   },
   "outputs": [
    {
     "name": "stdout",
     "output_type": "stream",
     "text": [
      "GPU 0: Tesla V100-SXM2-16GB (UUID: GPU-294e7e2e-418e-5872-1fe0-74910b01dca6)\n",
      "Mon May 16 01:11:00 2022       \n",
      "+-----------------------------------------------------------------------------+\n",
      "| NVIDIA-SMI 460.32.03    Driver Version: 460.32.03    CUDA Version: 11.2     |\n",
      "|-------------------------------+----------------------+----------------------+\n",
      "| GPU  Name        Persistence-M| Bus-Id        Disp.A | Volatile Uncorr. ECC |\n",
      "| Fan  Temp  Perf  Pwr:Usage/Cap|         Memory-Usage | GPU-Util  Compute M. |\n",
      "|                               |                      |               MIG M. |\n",
      "|===============================+======================+======================|\n",
      "|   0  Tesla V100-SXM2...  Off  | 00000000:00:04.0 Off |                    0 |\n",
      "| N/A   43C    P0    26W / 300W |      0MiB / 16160MiB |      0%      Default |\n",
      "|                               |                      |                  N/A |\n",
      "+-------------------------------+----------------------+----------------------+\n",
      "                                                                               \n",
      "+-----------------------------------------------------------------------------+\n",
      "| Processes:                                                                  |\n",
      "|  GPU   GI   CI        PID   Type   Process name                  GPU Memory |\n",
      "|        ID   ID                                                   Usage      |\n",
      "|=============================================================================|\n",
      "|  No running processes found                                                 |\n",
      "+-----------------------------------------------------------------------------+\n"
     ]
    }
   ],
   "source": [
    "!nvidia-smi -L\n",
    "!nvidia-smi"
   ]
  },
  {
   "cell_type": "code",
   "execution_count": 59,
   "metadata": {
    "colab": {
     "base_uri": "https://localhost:8080/",
     "height": 35
    },
    "id": "wjSxeDrd8_KF",
    "outputId": "2c62533b-2269-46f9-89db-fa139177f3a5"
   },
   "outputs": [
    {
     "data": {
      "application/vnd.google.colaboratory.intrinsic+json": {
       "type": "string"
      },
      "text/plain": [
       "'2.8.0'"
      ]
     },
     "execution_count": 59,
     "metadata": {},
     "output_type": "execute_result"
    }
   ],
   "source": [
    "tf.__version__"
   ]
  },
  {
   "cell_type": "code",
   "execution_count": 2,
   "metadata": {
    "id": "gvl_UgG1xU_z"
   },
   "outputs": [],
   "source": [
    "%%capture\n",
    "!rm -rf sample_data imagenet_class_index.json\n",
    "!wget -O imagenet_class_index.json https://s3.amazonaws.com/deep-learning-models/image-models/imagenet_class_index.json"
   ]
  },
  {
   "cell_type": "code",
   "execution_count": 3,
   "metadata": {
    "id": "9FugqOuRrGu8"
   },
   "outputs": [],
   "source": [
    "import gc\n",
    "import json\n",
    "import os\n",
    "from copy import deepcopy\n",
    "\n",
    "import matplotlib as mpl\n",
    "import matplotlib.pyplot as plt\n",
    "import numpy as np\n",
    "import tensorflow as tf\n",
    "import tensorflow_datasets as tfds\n",
    "from sklearn.model_selection import train_test_split\n",
    "\n",
    "# https://www.tensorflow.org/api_docs/python/tf/data/Dataset#sample_from_datasets\n",
    "\n",
    "\n",
    "mpl.rcParams[\"figure.figsize\"] = (8, 8)\n",
    "mpl.rcParams[\"axes.grid\"] = False\n",
    "\n",
    "SEED = 301"
   ]
  },
  {
   "cell_type": "code",
   "execution_count": 4,
   "metadata": {
    "id": "SUqivUH9ZB97"
   },
   "outputs": [],
   "source": [
    "def reset_tensorflow_keras_backend():\n",
    "    import tensorflow as tf\n",
    "\n",
    "    tf.compat.v1.reset_default_graph()\n",
    "    _ = gc.collect()\n",
    "\n",
    "\n",
    "reset_tensorflow_keras_backend()"
   ]
  },
  {
   "cell_type": "code",
   "execution_count": 5,
   "metadata": {
    "id": "5rJluRdoxd-y"
   },
   "outputs": [],
   "source": [
    "index_label_map = json.load(open(\"imagenet_class_index.json\", \"r\"))"
   ]
  },
  {
   "cell_type": "markdown",
   "metadata": {
    "id": "z5n51hmpViID"
   },
   "source": [
    "# Load and Process Dataset"
   ]
  },
  {
   "cell_type": "code",
   "execution_count": 6,
   "metadata": {
    "id": "rDq8QJL_rA3u"
   },
   "outputs": [],
   "source": [
    "# Helper function to preprocess the image so that it can be inputted in MobileNetV2\n",
    "def preprocess(image, label=None):\n",
    "    image = tf.cast(image, tf.float32)\n",
    "    image = tf.image.resize(image, (224, 224))\n",
    "    image = tf.keras.applications.mobilenet_v2.preprocess_input(image)\n",
    "    return (image, label)\n",
    "\n",
    "\n",
    "# Helper function to extract labels from probability vector\n",
    "def get_imagenet_label(probs):\n",
    "    return decode_predictions(probs, top=1)[0][0]"
   ]
  },
  {
   "cell_type": "code",
   "execution_count": 7,
   "metadata": {
    "colab": {
     "base_uri": "https://localhost:8080/",
     "height": 289,
     "referenced_widgets": [
      "e16c3c5b983747d0a2f3e55d1dcd3a97",
      "b87021c1d4d34a6daa4399991ec97992",
      "6d85fee5a9a142318aef9b5ebe1060b5",
      "d5e34d3eb74a4b9f9f44c02d90d0a7de",
      "3b5e2cc251184ab2802a19afeced1a28",
      "7a35e58e1dc8472fbe1fbcd7331e291d",
      "74b605e4c46b41c59d3227933a74636b",
      "b7af89d9d82c47198b8ccb1e68b931ad",
      "f06943067f474292bc7f859e58b95333",
      "22f94c4383e64a579c54c6fec3f3d487",
      "def7a8b48680402ea2abcf4629bbfe72",
      "ee0c7b5306c24221891c76b17876dbd4",
      "e94a4fff1ac0407f88fa197c69b9d871",
      "774c6e0ee62e4096887f9f86896bfdf5",
      "602f1d6fb4534756aff80a573dbe5a28",
      "7764a93d41304795a201546edad3677d",
      "ec6de1dabed94b8f8e3e91565bfcc1b2",
      "8962717338014286988b460886483f93",
      "5dac7388c39e44f7875f01416d13e6c1",
      "b93c5680ec484001b7adeb5b9d7801bb",
      "94a752338039425486f63728cf3c3f05",
      "3acdaef17859457589c4ebe2241307c5",
      "35bac6fbad15429499531eb31d43c44a",
      "81fb3adb55ad4e949b07c3c086db2483",
      "b93b2b6a5eb648b2bf1b15b0e72f4ac1",
      "91ce959620bd4f36ae63fa0e3e15bcf3",
      "e4e808b74aef4a7d8ba1f6a338bc0e3e",
      "434b8ccd48af4f838c9dd9e381676ace",
      "86a94dcbdda94497bb0ed78224fb786d",
      "ed3636cfd8ab417698f5aba5cfc344a7",
      "1501b2b706e84d8eba03510aa0ec5d20",
      "5384fd45a8b44e47bfce8a5aedb43eab",
      "bc87e2b000c94afeae0354ca6d39b803",
      "723c72920d654af1b4732a5360220af1",
      "5d06c605d03f4ee4be09ec1e25544018",
      "59323ed44a43444f95023fd099ecb6c1",
      "5c603c613f4546f691b0fde3f421622a",
      "750bffa2141540088cbb8e2b4c5020ed",
      "0f60c9cf1f484920bcebaa3c3166b55c",
      "260a9dd70e964668bad57a8bac99d97d",
      "4dc128d63a114c8781a0dfa455737409",
      "bd4780dfbdcc4322ad5ab0d648dda950",
      "c4f4f6427ede4a29986c11a5b2a94771",
      "045320a72363478d8aef6428a5506b7f",
      "790974bc273a4eefa4ba13b239d91b75",
      "386a00d61c244379ab5e5b3022520fab",
      "c0f4aec11bf346c3bb2acf5b6e4e65b4",
      "c58cdda04e9b4da9a7c9f0239d75a34c",
      "e40a93b5426c4bacb13a807a5a7eab0f",
      "a3e96fb1754044ba911d001b000e8394",
      "67a9c86105054ba88a2cc045e7a031a5",
      "f806a7829686489fa934a46445558e6f",
      "992bcd9699e94b37b64a1e40bbed8f9e",
      "2aa7a89170aa41cdab19316bd1cf863b",
      "c2de0a12914f43a6981a0c129c7f9bc8"
     ]
    },
    "id": "4xqLXR1QpGin",
    "outputId": "0b3b74d4-6ab0-4c69-e6b4-6a4aa81b7644"
   },
   "outputs": [
    {
     "name": "stdout",
     "output_type": "stream",
     "text": [
      "\u001b[1mDownloading and preparing dataset imagenet_r/0.1.0 (download: 2.04 GiB, generated: 2.03 GiB, total: 4.07 GiB) to data/imagenet_r/0.1.0...\u001b[0m\n"
     ]
    },
    {
     "data": {
      "application/vnd.jupyter.widget-view+json": {
       "model_id": "e16c3c5b983747d0a2f3e55d1dcd3a97",
       "version_major": 2,
       "version_minor": 0
      },
      "text/plain": [
       "Dl Completed...: 0 url [00:00, ? url/s]"
      ]
     },
     "metadata": {},
     "output_type": "display_data"
    },
    {
     "data": {
      "application/vnd.jupyter.widget-view+json": {
       "model_id": "ee0c7b5306c24221891c76b17876dbd4",
       "version_major": 2,
       "version_minor": 0
      },
      "text/plain": [
       "Dl Size...: 0 MiB [00:00, ? MiB/s]"
      ]
     },
     "metadata": {},
     "output_type": "display_data"
    },
    {
     "data": {
      "application/vnd.jupyter.widget-view+json": {
       "model_id": "35bac6fbad15429499531eb31d43c44a",
       "version_major": 2,
       "version_minor": 0
      },
      "text/plain": [
       "Extraction completed...: 0 file [00:00, ? file/s]"
      ]
     },
     "metadata": {},
     "output_type": "display_data"
    },
    {
     "name": "stdout",
     "output_type": "stream",
     "text": [
      "\n",
      "\n",
      "\n"
     ]
    },
    {
     "data": {
      "application/vnd.jupyter.widget-view+json": {
       "model_id": "723c72920d654af1b4732a5360220af1",
       "version_major": 2,
       "version_minor": 0
      },
      "text/plain": [
       "0 examples [00:00, ? examples/s]"
      ]
     },
     "metadata": {},
     "output_type": "display_data"
    },
    {
     "name": "stdout",
     "output_type": "stream",
     "text": [
      "Shuffling and writing examples to data/imagenet_r/0.1.0.incompleteEWAV8H/imagenet_r-test.tfrecord\n"
     ]
    },
    {
     "data": {
      "application/vnd.jupyter.widget-view+json": {
       "model_id": "790974bc273a4eefa4ba13b239d91b75",
       "version_major": 2,
       "version_minor": 0
      },
      "text/plain": [
       "  0%|          | 0/30000 [00:00<?, ? examples/s]"
      ]
     },
     "metadata": {},
     "output_type": "display_data"
    },
    {
     "name": "stdout",
     "output_type": "stream",
     "text": [
      "\u001b[1mDataset imagenet_r downloaded and prepared to data/imagenet_r/0.1.0. Subsequent calls will reuse this data.\u001b[0m\n",
      "Training set size: 24000\n",
      "Test set size: 6000\n"
     ]
    }
   ],
   "source": [
    "# Construct a tf.data.Dataset\n",
    "imagenet_r_train = tfds.load(\"imagenet_r\", data_dir=\"data\", split=\"test[:80%]\", shuffle_files=True, as_supervised=True, try_gcs=True)\n",
    "imagenet_r_test = tfds.load(\"imagenet_r\", data_dir=\"data\", split=\"test[80%:]\", shuffle_files=True, as_supervised=True, try_gcs=True)\n",
    "\n",
    "print(\"Training set size:\", len(imagenet_r_train))\n",
    "print(\"Test set size:\", len(imagenet_r_test))\n",
    "\n",
    "imagenet_r_train = imagenet_r_train.map(preprocess)\n",
    "imagenet_r_test = imagenet_r_test.map(preprocess)"
   ]
  },
  {
   "cell_type": "code",
   "execution_count": 8,
   "metadata": {
    "id": "1udF5xYqWSnc"
   },
   "outputs": [],
   "source": [
    "# Helper function to display image\n",
    "def display_images(image, label_index):\n",
    "    plt.figure()\n",
    "    plt.imshow(image * 0.5 + 0.5)  # To change [-1, 1] to [0,1]\n",
    "    plt.title(f\"Real Label: {index_label_map[str(label_index)]}  |  Label Index: {label_index}\")\n",
    "    plt.show()"
   ]
  },
  {
   "cell_type": "code",
   "execution_count": 9,
   "metadata": {
    "id": "pRI4XXFEWT3h"
   },
   "outputs": [],
   "source": [
    "X_test_adv = []\n",
    "y_test = []\n",
    "\n",
    "for example in imagenet_r_test:\n",
    "    (local_image, local_label_index) = example\n",
    "\n",
    "    local_image = local_image.numpy()\n",
    "    local_label_index = int(local_label_index)\n",
    "\n",
    "    # display_images(local_image, local_label_index)\n",
    "\n",
    "    X_test_adv.append(local_image)\n",
    "    y_test.append(local_label_index)\n",
    "\n",
    "X_test_adv = np.array(X_test_adv)\n",
    "y_test = np.array(y_test)"
   ]
  },
  {
   "cell_type": "code",
   "execution_count": 10,
   "metadata": {
    "id": "wnjk0aYoWPEq"
   },
   "outputs": [],
   "source": [
    "imagenet_r_train = imagenet_r_train.shuffle(len(imagenet_r_train))\n",
    "imagenet_r_train = imagenet_r_train.cache()\n",
    "imagenet_r_train = imagenet_r_train.batch(128)\n",
    "imagenet_r_train = imagenet_r_train.prefetch(tf.data.AUTOTUNE)\n",
    "\n",
    "imagenet_r_test = imagenet_r_test.shuffle(len(imagenet_r_test))\n",
    "imagenet_r_test = imagenet_r_test.batch(128)\n",
    "imagenet_r_test = imagenet_r_test.prefetch(tf.data.AUTOTUNE)"
   ]
  },
  {
   "cell_type": "markdown",
   "metadata": {
    "id": "trp-puEY6VZL"
   },
   "source": [
    "# Load Pre-trained Model"
   ]
  },
  {
   "cell_type": "code",
   "execution_count": 11,
   "metadata": {
    "id": "6Ws_d-X6lYyE"
   },
   "outputs": [],
   "source": [
    "learning_rate = 0.0001\n",
    "epochs = 4\n",
    "\n",
    "performance_history = {}"
   ]
  },
  {
   "cell_type": "code",
   "execution_count": 12,
   "metadata": {
    "colab": {
     "base_uri": "https://localhost:8080/"
    },
    "id": "XhrxYl42r0lD",
    "outputId": "32822ed5-619e-4749-94cf-12e8f90f7eac"
   },
   "outputs": [
    {
     "name": "stdout",
     "output_type": "stream",
     "text": [
      "Downloading data from https://storage.googleapis.com/tensorflow/keras-applications/mobilenet_v2/mobilenet_v2_weights_tf_dim_ordering_tf_kernels_1.0_224.h5\n",
      "14540800/14536120 [==============================] - 0s 0us/step\n",
      "14548992/14536120 [==============================] - 0s 0us/step\n"
     ]
    }
   ],
   "source": [
    "pretrained_model = tf.keras.applications.MobileNetV2(include_top=True, weights=\"imagenet\")\n",
    "pretrained_model.trainable = False\n",
    "\n",
    "pretrained_model.compile(\n",
    "    optimizer=tf.keras.optimizers.Adam(learning_rate),\n",
    "    loss=tf.keras.losses.SparseCategoricalCrossentropy(),\n",
    "    # metrics=[tf.keras.metrics.SparseCategoricalAccuracy()],\n",
    "    metrics=[\"accuracy\"],\n",
    ")\n",
    "\n",
    "# ImageNet labels\n",
    "decode_predictions = tf.keras.applications.mobilenet_v2.decode_predictions"
   ]
  },
  {
   "cell_type": "code",
   "execution_count": 13,
   "metadata": {
    "colab": {
     "base_uri": "https://localhost:8080/"
    },
    "id": "6oVyc_UFhXQA",
    "outputId": "7ec18359-dfe3-4421-e927-1ca6bc434287"
   },
   "outputs": [
    {
     "name": "stdout",
     "output_type": "stream",
     "text": [
      "47/47 [==============================] - 21s 69ms/step - loss: 5.2801 - accuracy: 0.2070\n",
      "BaseA Model Initial Loss: 5.2801\n",
      "BaseA Model Initial Accuracy: 0.2070\n"
     ]
    }
   ],
   "source": [
    "reset_tensorflow_keras_backend()\n",
    "loss0, accuracy0 = pretrained_model.evaluate(imagenet_r_test)\n",
    "print(\"BaseA Model Initial Loss: {:.4f}\".format(loss0))\n",
    "print(\"BaseA Model Initial Accuracy: {:.4f}\".format(accuracy0))"
   ]
  },
  {
   "cell_type": "markdown",
   "metadata": {
    "id": "MpfUx0npNwQC"
   },
   "source": [
    "---"
   ]
  },
  {
   "cell_type": "markdown",
   "metadata": {
    "id": "3VRJ2GWOVqYM"
   },
   "source": [
    "# Transfer Learning Model"
   ]
  },
  {
   "cell_type": "code",
   "execution_count": 14,
   "metadata": {
    "id": "-oraEunRV5bt"
   },
   "outputs": [],
   "source": [
    "def get_a_n_b(pretrained_model, n_layers_to_copy, freeze, training_data, validation_data):\n",
    "    local_model = None\n",
    "    local_model = tf.keras.applications.MobileNetV2(include_top=True)\n",
    "    local_model.trainable = True\n",
    "\n",
    "    for i in range(n_layers_to_copy + 1):\n",
    "        local_model.layers[i].set_weights(pretrained_model.layers[i].get_weights())\n",
    "        if freeze:\n",
    "            local_model.layers[i].trainable = False\n",
    "        else:\n",
    "            local_model.layers[i].trainable = True\n",
    "\n",
    "    local_model.compile(optimizer=tf.keras.optimizers.Adam(learning_rate=learning_rate), loss=tf.keras.losses.SparseCategoricalCrossentropy(), metrics=[\"accuracy\"])\n",
    "\n",
    "    initial_epochs = int(epochs / 2)\n",
    "    fine_tune_epochs = int(epochs / 2)\n",
    "\n",
    "    # Fine tuning\n",
    "    if freeze == False and n_layers_to_copy != -1:\n",
    "        local_history = local_model.fit(imagenet_r_train, epochs=initial_epochs, validation_data=imagenet_r_test)\n",
    "\n",
    "        local_model.trainable = True\n",
    "\n",
    "        local_model.compile(optimizer=tf.keras.optimizers.RMSprop(learning_rate=learning_rate / 10), loss=tf.keras.losses.SparseCategoricalCrossentropy(), metrics=[\"accuracy\"])\n",
    "\n",
    "        total_epochs = initial_epochs + fine_tune_epochs - 1\n",
    "\n",
    "        finetuning_history = local_model.fit(imagenet_r_train, epochs=total_epochs, initial_epoch=local_history.epoch[-1], validation_data=imagenet_r_test)\n",
    "\n",
    "        finetuning_history.history[\"val_accuracy\"] = local_history.history[\"val_accuracy\"] + finetuning_history.history[\"val_accuracy\"]\n",
    "\n",
    "        return local_model, finetuning_history\n",
    "    else:\n",
    "        local_history = local_model.fit(imagenet_r_train, epochs=epochs, validation_data=imagenet_r_test)\n",
    "        return local_model, local_history"
   ]
  },
  {
   "cell_type": "markdown",
   "metadata": {
    "id": "Tb7Kd3m6PtIz"
   },
   "source": [
    "# Train Base Model (i.e. $BnB$)"
   ]
  },
  {
   "cell_type": "code",
   "execution_count": 15,
   "metadata": {
    "colab": {
     "base_uri": "https://localhost:8080/"
    },
    "id": "c4QdfByLPs9i",
    "outputId": "a5a79c21-7db2-4b2c-c205-20648b44b12e"
   },
   "outputs": [
    {
     "name": "stdout",
     "output_type": "stream",
     "text": [
      "base_B:\n",
      "Epoch 1/4\n",
      "188/188 [==============================] - 123s 490ms/step - loss: 2.4292 - accuracy: 0.4995 - val_loss: 2.1409 - val_accuracy: 0.5262\n",
      "Epoch 2/4\n",
      "188/188 [==============================] - 90s 479ms/step - loss: 1.1814 - accuracy: 0.7271 - val_loss: 1.9716 - val_accuracy: 0.5548\n",
      "Epoch 3/4\n",
      "188/188 [==============================] - 89s 474ms/step - loss: 0.6778 - accuracy: 0.8596 - val_loss: 1.8860 - val_accuracy: 0.5763\n",
      "Epoch 4/4\n",
      "188/188 [==============================] - 89s 476ms/step - loss: 0.3729 - accuracy: 0.9380 - val_loss: 1.8378 - val_accuracy: 0.5907\n"
     ]
    }
   ],
   "source": [
    "reset_tensorflow_keras_backend()\n",
    "print(\"base_B:\")\n",
    "base_B, base_B_history = get_a_n_b(pretrained_model=pretrained_model, n_layers_to_copy=-1, freeze=False, training_data=imagenet_r_train, validation_data=imagenet_r_test)\n",
    "performance_history[\"base_B\"] = base_B_history.history"
   ]
  },
  {
   "cell_type": "markdown",
   "metadata": {
    "id": "epFOtfnoPyyF"
   },
   "source": [
    "# Train Transfer Learning Model (i.e. $AnB$ and $AnB+$)"
   ]
  },
  {
   "cell_type": "code",
   "execution_count": 16,
   "metadata": {
    "colab": {
     "base_uri": "https://localhost:8080/"
    },
    "id": "jDjLMkZ_cD1L",
    "outputId": "8d89e3c3-69f2-4b57-c88c-c043ebd3a7e1"
   },
   "outputs": [
    {
     "name": "stdout",
     "output_type": "stream",
     "text": [
      "A_4blocks_B:\n",
      "Epoch 1/2\n",
      "188/188 [==============================] - 92s 470ms/step - loss: 2.4294 - accuracy: 0.4989 - val_loss: 2.1460 - val_accuracy: 0.5227\n",
      "Epoch 2/2\n",
      "188/188 [==============================] - 88s 468ms/step - loss: 1.1812 - accuracy: 0.7280 - val_loss: 1.9867 - val_accuracy: 0.5552\n",
      "Epoch 2/3\n",
      "188/188 [==============================] - 98s 480ms/step - loss: 0.6635 - accuracy: 0.8638 - val_loss: 1.8529 - val_accuracy: 0.5762\n",
      "Epoch 3/3\n",
      "188/188 [==============================] - 89s 475ms/step - loss: 0.5924 - accuracy: 0.8816 - val_loss: 1.7694 - val_accuracy: 0.5965\n",
      "\n",
      "A_4blocks_B_freeze\n",
      "Epoch 1/4\n",
      "188/188 [==============================] - 33s 158ms/step - loss: 2.4426 - accuracy: 0.4978 - val_loss: 2.1221 - val_accuracy: 0.5303\n",
      "Epoch 2/4\n",
      "188/188 [==============================] - 29s 155ms/step - loss: 1.1997 - accuracy: 0.7249 - val_loss: 1.9599 - val_accuracy: 0.5607\n",
      "Epoch 3/4\n",
      "188/188 [==============================] - 29s 154ms/step - loss: 0.6972 - accuracy: 0.8538 - val_loss: 1.8851 - val_accuracy: 0.5727\n",
      "Epoch 4/4\n",
      "188/188 [==============================] - 29s 154ms/step - loss: 0.3894 - accuracy: 0.9345 - val_loss: 1.8264 - val_accuracy: 0.5890\n"
     ]
    }
   ],
   "source": [
    "reset_tensorflow_keras_backend()\n",
    "print(\"A_4blocks_B:\")\n",
    "A_4blocks_B, A_4blocks_B_history = get_a_n_b(pretrained_model=pretrained_model, n_layers_to_copy=44, freeze=False, training_data=imagenet_r_train, validation_data=imagenet_r_test)\n",
    "performance_history[\"A_4blocks_B\"] = A_4blocks_B_history.history\n",
    "\n",
    "print(\"\\nA_4blocks_B_freeze\")\n",
    "A_4blocks_B_freeze, A_4blocks_B_freeze_history = get_a_n_b(pretrained_model=pretrained_model, n_layers_to_copy=44, freeze=True, training_data=imagenet_r_train, validation_data=imagenet_r_test)\n",
    "performance_history[\"A_4blocks_B_freeze\"] = A_4blocks_B_freeze_history.history"
   ]
  },
  {
   "cell_type": "code",
   "execution_count": 17,
   "metadata": {
    "colab": {
     "base_uri": "https://localhost:8080/"
    },
    "id": "uEZEgBUSbQLj",
    "outputId": "bf04be60-ae19-4b55-a2fe-2d3392a2e5cc"
   },
   "outputs": [
    {
     "name": "stdout",
     "output_type": "stream",
     "text": [
      "A_8blocks_B\n",
      "Epoch 1/2\n",
      "188/188 [==============================] - 91s 465ms/step - loss: 2.4288 - accuracy: 0.4995 - val_loss: 2.1434 - val_accuracy: 0.5243\n",
      "Epoch 2/2\n",
      "188/188 [==============================] - 88s 468ms/step - loss: 1.1798 - accuracy: 0.7271 - val_loss: 1.9848 - val_accuracy: 0.5522\n",
      "Epoch 2/3\n",
      "188/188 [==============================] - 97s 474ms/step - loss: 0.6631 - accuracy: 0.8644 - val_loss: 1.8481 - val_accuracy: 0.5762\n",
      "Epoch 3/3\n",
      "188/188 [==============================] - 88s 470ms/step - loss: 0.5919 - accuracy: 0.8830 - val_loss: 1.7663 - val_accuracy: 0.5963\n",
      "\n",
      "A_8blocks_B_freeze\n",
      "Epoch 1/4\n",
      "188/188 [==============================] - 30s 142ms/step - loss: 2.4861 - accuracy: 0.4927 - val_loss: 2.1940 - val_accuracy: 0.5183\n",
      "Epoch 2/4\n",
      "188/188 [==============================] - 26s 138ms/step - loss: 1.2620 - accuracy: 0.7113 - val_loss: 2.0601 - val_accuracy: 0.5435\n",
      "Epoch 3/4\n",
      "188/188 [==============================] - 26s 139ms/step - loss: 0.7675 - accuracy: 0.8354 - val_loss: 2.0011 - val_accuracy: 0.5575\n",
      "Epoch 4/4\n",
      "188/188 [==============================] - 26s 137ms/step - loss: 0.4529 - accuracy: 0.9196 - val_loss: 1.9244 - val_accuracy: 0.5727\n"
     ]
    }
   ],
   "source": [
    "reset_tensorflow_keras_backend()\n",
    "print(\"A_8blocks_B\")\n",
    "A_8blocks_B, A_8blocks_B_history = get_a_n_b(pretrained_model=pretrained_model, n_layers_to_copy=80, freeze=False, training_data=imagenet_r_train, validation_data=imagenet_r_test)\n",
    "performance_history[\"A_8blocks_B\"] = A_8blocks_B_history.history\n",
    "\n",
    "print(\"\\nA_8blocks_B_freeze\")\n",
    "A_8blocks_B_freeze, A_8blocks_B_freeze_history = get_a_n_b(pretrained_model=pretrained_model, n_layers_to_copy=80, freeze=True, training_data=imagenet_r_train, validation_data=imagenet_r_test)\n",
    "performance_history[\"A_8blocks_B_freeze\"] = A_8blocks_B_freeze_history.history"
   ]
  },
  {
   "cell_type": "code",
   "execution_count": 18,
   "metadata": {
    "colab": {
     "base_uri": "https://localhost:8080/"
    },
    "id": "NZ13oeljbUKW",
    "outputId": "a67ff5c5-e33b-4656-d608-e1e4b5c15c5c"
   },
   "outputs": [
    {
     "name": "stdout",
     "output_type": "stream",
     "text": [
      "A_12blocks_B\n",
      "Epoch 1/2\n",
      "188/188 [==============================] - 93s 475ms/step - loss: 2.4289 - accuracy: 0.5002 - val_loss: 2.1412 - val_accuracy: 0.5263\n",
      "Epoch 2/2\n",
      "188/188 [==============================] - 89s 475ms/step - loss: 1.1807 - accuracy: 0.7275 - val_loss: 1.9824 - val_accuracy: 0.5525\n",
      "Epoch 2/3\n",
      "188/188 [==============================] - 98s 479ms/step - loss: 0.6633 - accuracy: 0.8632 - val_loss: 1.8453 - val_accuracy: 0.5780\n",
      "Epoch 3/3\n",
      "188/188 [==============================] - 89s 475ms/step - loss: 0.5922 - accuracy: 0.8824 - val_loss: 1.7638 - val_accuracy: 0.5963\n",
      "\n",
      "A_12blocks_B_freeze\n",
      "Epoch 1/4\n",
      "188/188 [==============================] - 27s 132ms/step - loss: 2.6612 - accuracy: 0.4593 - val_loss: 2.5053 - val_accuracy: 0.4695\n",
      "Epoch 2/4\n",
      "188/188 [==============================] - 23s 125ms/step - loss: 1.4936 - accuracy: 0.6596 - val_loss: 2.3084 - val_accuracy: 0.5032\n",
      "Epoch 3/4\n",
      "188/188 [==============================] - 24s 126ms/step - loss: 1.0146 - accuracy: 0.7761 - val_loss: 2.2346 - val_accuracy: 0.5172\n",
      "Epoch 4/4\n",
      "188/188 [==============================] - 23s 124ms/step - loss: 0.6875 - accuracy: 0.8625 - val_loss: 2.1939 - val_accuracy: 0.5287\n"
     ]
    }
   ],
   "source": [
    "reset_tensorflow_keras_backend()\n",
    "print(\"A_12blocks_B\")\n",
    "A_12blocks_B, A_12blocks_B_history = get_a_n_b(pretrained_model=pretrained_model, n_layers_to_copy=115, freeze=False, training_data=imagenet_r_train, validation_data=imagenet_r_test)\n",
    "performance_history[\"A_12blocks_B\"] = A_12blocks_B_history.history\n",
    "\n",
    "print(\"\\nA_12blocks_B_freeze\")\n",
    "A_12blocks_B_freeze, A_12blocks_B_freeze_history = get_a_n_b(pretrained_model=pretrained_model, n_layers_to_copy=115, freeze=True, training_data=imagenet_r_train, validation_data=imagenet_r_test)\n",
    "performance_history[\"A_12blocks_B_freeze\"] = A_12blocks_B_freeze_history.history"
   ]
  },
  {
   "cell_type": "code",
   "execution_count": 19,
   "metadata": {
    "colab": {
     "base_uri": "https://localhost:8080/"
    },
    "id": "eASl-3EcbVV0",
    "outputId": "217f5f4b-774c-4a80-dec4-d426290a2223"
   },
   "outputs": [
    {
     "name": "stdout",
     "output_type": "stream",
     "text": [
      "A_16blocks_B\n",
      "Epoch 1/2\n",
      "188/188 [==============================] - 92s 469ms/step - loss: 2.4294 - accuracy: 0.4995 - val_loss: 2.1527 - val_accuracy: 0.5243\n",
      "Epoch 2/2\n",
      "188/188 [==============================] - 89s 473ms/step - loss: 1.1810 - accuracy: 0.7273 - val_loss: 1.9848 - val_accuracy: 0.5542\n",
      "Epoch 2/3\n",
      "188/188 [==============================] - 98s 479ms/step - loss: 0.6638 - accuracy: 0.8653 - val_loss: 1.8501 - val_accuracy: 0.5787\n",
      "Epoch 3/3\n",
      "188/188 [==============================] - 89s 474ms/step - loss: 0.5926 - accuracy: 0.8825 - val_loss: 1.7673 - val_accuracy: 0.5965\n",
      "\n",
      "A_16blocks_B_freeze\n",
      "Epoch 1/4\n",
      "188/188 [==============================] - 24s 118ms/step - loss: 3.6752 - accuracy: 0.3228 - val_loss: 3.1780 - val_accuracy: 0.3743\n",
      "Epoch 2/4\n",
      "188/188 [==============================] - 21s 114ms/step - loss: 3.0417 - accuracy: 0.3814 - val_loss: 2.9799 - val_accuracy: 0.3977\n",
      "Epoch 3/4\n",
      "188/188 [==============================] - 21s 114ms/step - loss: 2.8280 - accuracy: 0.4110 - val_loss: 2.8564 - val_accuracy: 0.4160\n",
      "Epoch 4/4\n",
      "188/188 [==============================] - 21s 114ms/step - loss: 2.6664 - accuracy: 0.4340 - val_loss: 2.7654 - val_accuracy: 0.4262\n"
     ]
    }
   ],
   "source": [
    "reset_tensorflow_keras_backend()\n",
    "print(\"A_16blocks_B\")\n",
    "A_16blocks_B, A_16blocks_B_history = get_a_n_b(pretrained_model=pretrained_model, n_layers_to_copy=153, freeze=False, training_data=imagenet_r_train, validation_data=imagenet_r_test)\n",
    "performance_history[\"A_16blocks_B\"] = A_16blocks_B_history.history\n",
    "\n",
    "print(\"\\nA_16blocks_B_freeze\")\n",
    "A_16blocks_B_freeze, A_16blocks_B_freeze_history = get_a_n_b(pretrained_model=pretrained_model, n_layers_to_copy=153, freeze=True, training_data=imagenet_r_train, validation_data=imagenet_r_test)\n",
    "performance_history[\"A_16blocks_B_freeze\"] = A_16blocks_B_freeze_history.history"
   ]
  },
  {
   "cell_type": "markdown",
   "metadata": {
    "id": "0fFyyX_sYzMi"
   },
   "source": [
    "# Plot Transfer Learning Performance"
   ]
  },
  {
   "cell_type": "code",
   "execution_count": 61,
   "metadata": {
    "colab": {
     "base_uri": "https://localhost:8080/",
     "height": 501
    },
    "id": "6nk90B1pkisC",
    "outputId": "86a80929-53f4-41d3-c36c-2c2d1477b92b"
   },
   "outputs": [
    {
     "data": {
      "image/png": "[encoded data removed]",
      "text/plain": [
       "<Figure size 576x576 with 1 Axes>"
      ]
     },
     "metadata": {
      "needs_background": "light"
     },
     "output_type": "display_data"
    }
   ],
   "source": [
    "plt.figure()\n",
    "\n",
    "# Base B\n",
    "plt.scatter([0, 0, 0, 0], performance_history[\"base_B\"][\"val_accuracy\"], s=100, marker=\"o\", color=\"white\", edgecolor=\"black\", linewidth=1, label=\"Base B\")\n",
    "\n",
    "plt.scatter([0.9, 0.9, 0.9, 0.9], performance_history[\"A_4blocks_B_freeze\"][\"val_accuracy\"], s=100, marker=\"D\", color=\"red\", edgecolor=\"black\", linewidth=1, label=\"A NBlocks B\")\n",
    "plt.scatter([1.1, 1.1, 1.1, 1.1], performance_history[\"A_4blocks_B\"][\"val_accuracy\"], s=200, marker=\"P\", color=\"pink\", edgecolor=\"black\", linewidth=1, label=\"A NBlocks B+\")\n",
    "\n",
    "plt.scatter([1.9, 1.9, 1.9, 1.9], performance_history[\"A_8blocks_B_freeze\"][\"val_accuracy\"], s=100, marker=\"D\", color=\"red\", edgecolor=\"black\", linewidth=1)\n",
    "plt.scatter([2.1, 2.1, 2.1, 2.1], performance_history[\"A_8blocks_B\"][\"val_accuracy\"], s=200, marker=\"P\", color=\"pink\", edgecolor=\"black\", linewidth=1)\n",
    "\n",
    "plt.scatter([2.9, 2.9, 2.9, 2.9], performance_history[\"A_12blocks_B_freeze\"][\"val_accuracy\"], s=100, marker=\"D\", color=\"red\", edgecolor=\"black\", linewidth=1)\n",
    "plt.scatter([3.1, 3.1, 3.1, 3.1], performance_history[\"A_12blocks_B\"][\"val_accuracy\"], s=200, marker=\"P\", color=\"pink\", edgecolor=\"black\", linewidth=1)\n",
    "\n",
    "plt.scatter([3.9, 3.9, 3.9, 3.9], performance_history[\"A_16blocks_B_freeze\"][\"val_accuracy\"], s=100, marker=\"D\", color=\"red\", edgecolor=\"black\", linewidth=1)\n",
    "plt.scatter([4.1, 4.1, 4.1, 4.1], performance_history[\"A_16blocks_B\"][\"val_accuracy\"], s=200, marker=\"P\", color=\"pink\", edgecolor=\"black\", linewidth=1)\n",
    "\n",
    "plt.xticks(ticks=[0, 1, 2, 3, 4], labels=[0, 4, 8, 12, 16])\n",
    "\n",
    "plt.xlabel(\"Transfer N Blocks\", fontsize=14)\n",
    "plt.ylabel(\"Validation Accuracy at Each Epoch\", fontsize=14)\n",
    "plt.legend(loc=\"lower left\", prop={\"size\": 14})\n",
    "\n",
    "plt.savefig(\"transfer_learning_performance.png\", dpi=1200, bbox_inches=\"tight\")\n",
    "plt.show()"
   ]
  },
  {
   "cell_type": "markdown",
   "metadata": {
    "id": "Cfl3emNBqsnZ"
   },
   "source": [
    "# Adversarial Example"
   ]
  },
  {
   "cell_type": "code",
   "execution_count": 21,
   "metadata": {
    "id": "z6VNrYMBq50E"
   },
   "outputs": [],
   "source": [
    "loss_object = tf.keras.losses.CategoricalCrossentropy()\n",
    "\n",
    "\n",
    "def create_adversarial_pattern(input_image, input_label, model):\n",
    "    with tf.GradientTape() as tape:\n",
    "        tape.watch(input_image)\n",
    "        prediction = model(input_image)\n",
    "        loss = loss_object(input_label, prediction)\n",
    "\n",
    "    # Get the gradients of the loss w.r.t to the input image.\n",
    "    gradient = tape.gradient(loss, input_image)\n",
    "    # Get the sign of the gradients to create the perturbation\n",
    "    signed_grad = tf.sign(gradient)\n",
    "    return signed_grad\n",
    "\n",
    "\n",
    "def create_adversatial_image(image, real_label_index, model, epsilon):\n",
    "    image = image[None, ...]\n",
    "\n",
    "    image_probs = model.predict(image)\n",
    "\n",
    "    # Get the input label of the image.\n",
    "    label = tf.one_hot(real_label_index, image_probs.shape[-1])\n",
    "    label = tf.reshape(label, (1, image_probs.shape[-1]))\n",
    "\n",
    "    perturbations = create_adversarial_pattern(image, label, model)\n",
    "\n",
    "    adv_x = image + epsilon * perturbations\n",
    "    adv_x = tf.clip_by_value(adv_x, -1, 1)\n",
    "\n",
    "    return adv_x[0].numpy()"
   ]
  },
  {
   "cell_type": "code",
   "execution_count": 22,
   "metadata": {
    "colab": {
     "base_uri": "https://localhost:8080/"
    },
    "id": "X6y8VFeiWIii",
    "outputId": "6b6136ab-f943-4102-8937-a1ba9cdbf9a2"
   },
   "outputs": [
    {
     "name": "stdout",
     "output_type": "stream",
     "text": [
      "Progress: 1 / 6000\n",
      "Progress: 501 / 6000\n",
      "Progress: 1001 / 6000\n",
      "Progress: 1501 / 6000\n",
      "Progress: 2001 / 6000\n",
      "Progress: 2501 / 6000\n",
      "Progress: 3001 / 6000\n",
      "Progress: 3501 / 6000\n",
      "Progress: 4001 / 6000\n",
      "Progress: 4501 / 6000\n",
      "Progress: 5001 / 6000\n",
      "Progress: 5501 / 6000\n"
     ]
    }
   ],
   "source": [
    "for i in range(len(X_test_adv)):\n",
    "    X_test_adv[i] = create_adversatial_image(tf.convert_to_tensor(X_test_adv[i]), y_test[i], pretrained_model, 0.01)\n",
    "    if i % 500 == 0:\n",
    "        print(f\"Progress: {i+1} / {len(X_test_adv)}\")\n",
    "\n",
    "adversarial_performance = {}"
   ]
  },
  {
   "cell_type": "code",
   "execution_count": 23,
   "metadata": {
    "colab": {
     "base_uri": "https://localhost:8080/"
    },
    "id": "GkPgB7-ytRXT",
    "outputId": "5cbd533d-2aa1-4e9f-a76e-d7536090eb8a"
   },
   "outputs": [
    {
     "name": "stdout",
     "output_type": "stream",
     "text": [
      "47/47 [==============================] - 10s 64ms/step - loss: 1.7694 - accuracy: 0.5965\n",
      "A_4blocks_B Natural Accuracy: 0.5965\n",
      "188/188 [==============================] - 4s 21ms/step - loss: 4.1347 - accuracy: 0.2592\n",
      "A_4blocks_B Adversarial Accuracy: 0.2592\n"
     ]
    }
   ],
   "source": [
    "reset_tensorflow_keras_backend()\n",
    "\n",
    "adversarial_performance[\"A_4blocks_B\"] = {}\n",
    "\n",
    "_, natural_accuracy = A_4blocks_B.evaluate(imagenet_r_test)\n",
    "adversarial_performance[\"A_4blocks_B\"][\"natural_accuracy\"] = natural_accuracy\n",
    "print(\"A_4blocks_B Natural Accuracy: {:.4f}\".format(natural_accuracy))\n",
    "\n",
    "_, adv_accuracy = A_4blocks_B.evaluate(x=X_test_adv, y=y_test)\n",
    "adversarial_performance[\"A_4blocks_B\"][\"adv_accuracy\"] = adv_accuracy\n",
    "print(\"A_4blocks_B Adversarial Accuracy: {:.4f}\".format(adv_accuracy))"
   ]
  },
  {
   "cell_type": "code",
   "execution_count": 24,
   "metadata": {
    "colab": {
     "base_uri": "https://localhost:8080/"
    },
    "id": "xx8tS9fk0o-7",
    "outputId": "1c0359e3-eee2-4596-aedf-a3bd3625e088"
   },
   "outputs": [
    {
     "name": "stdout",
     "output_type": "stream",
     "text": [
      "47/47 [==============================] - 10s 64ms/step - loss: 1.8264 - accuracy: 0.5890\n",
      "A_4blocks_B_freeze Natural Accuracy: 0.5890\n",
      "188/188 [==============================] - 4s 20ms/step - loss: 4.3694 - accuracy: 0.2267\n",
      "A_4blocks_B_freeze Adversarial Accuracy: 0.2267\n"
     ]
    }
   ],
   "source": [
    "reset_tensorflow_keras_backend()\n",
    "\n",
    "adversarial_performance[\"A_4blocks_B_freeze\"] = {}\n",
    "\n",
    "_, natural_accuracy = A_4blocks_B_freeze.evaluate(imagenet_r_test)\n",
    "adversarial_performance[\"A_4blocks_B_freeze\"][\"natural_accuracy\"] = natural_accuracy\n",
    "print(\"A_4blocks_B_freeze Natural Accuracy: {:.4f}\".format(natural_accuracy))\n",
    "\n",
    "_, adv_accuracy = A_4blocks_B_freeze.evaluate(x=X_test_adv, y=y_test)\n",
    "adversarial_performance[\"A_4blocks_B_freeze\"][\"adv_accuracy\"] = adv_accuracy\n",
    "print(\"A_4blocks_B_freeze Adversarial Accuracy: {:.4f}\".format(adv_accuracy))"
   ]
  },
  {
   "cell_type": "code",
   "execution_count": 25,
   "metadata": {
    "colab": {
     "base_uri": "https://localhost:8080/"
    },
    "id": "VYHPlwGS03xS",
    "outputId": "ebf79527-8d79-4ad4-b233-202e7a793d0f"
   },
   "outputs": [
    {
     "name": "stdout",
     "output_type": "stream",
     "text": [
      "47/47 [==============================] - 10s 64ms/step - loss: 1.7663 - accuracy: 0.5963\n",
      "A_8blocks_B Natural Accuracy: 0.5963\n",
      "188/188 [==============================] - 4s 20ms/step - loss: 4.1327 - accuracy: 0.2583\n",
      "A_8blocks_B Adversarial Accuracy: 0.2583\n"
     ]
    }
   ],
   "source": [
    "reset_tensorflow_keras_backend()\n",
    "\n",
    "adversarial_performance[\"A_8blocks_B\"] = {}\n",
    "\n",
    "_, natural_accuracy = A_8blocks_B.evaluate(imagenet_r_test)\n",
    "adversarial_performance[\"A_8blocks_B\"][\"natural_accuracy\"] = natural_accuracy\n",
    "print(\"A_8blocks_B Natural Accuracy: {:.4f}\".format(natural_accuracy))\n",
    "\n",
    "_, adv_accuracy = A_8blocks_B.evaluate(x=X_test_adv, y=y_test)\n",
    "adversarial_performance[\"A_8blocks_B\"][\"adv_accuracy\"] = adv_accuracy\n",
    "print(\"A_8blocks_B Adversarial Accuracy: {:.4f}\".format(adv_accuracy))"
   ]
  },
  {
   "cell_type": "code",
   "execution_count": 26,
   "metadata": {
    "colab": {
     "base_uri": "https://localhost:8080/"
    },
    "id": "GXpIKueE1CJq",
    "outputId": "80fdd8e9-c809-4a13-c741-b38ef1a8d5f7"
   },
   "outputs": [
    {
     "name": "stdout",
     "output_type": "stream",
     "text": [
      "47/47 [==============================] - 10s 64ms/step - loss: 1.9244 - accuracy: 0.5727\n",
      "A_8blocks_B_freeze Natural Accuracy: 0.5727\n",
      "188/188 [==============================] - 4s 20ms/step - loss: 4.6939 - accuracy: 0.1932\n",
      "A_8blocks_B_freeze Adversarial Accuracy: 0.1932\n"
     ]
    }
   ],
   "source": [
    "reset_tensorflow_keras_backend()\n",
    "\n",
    "adversarial_performance[\"A_8blocks_B_freeze\"] = {}\n",
    "\n",
    "_, natural_accuracy = A_8blocks_B_freeze.evaluate(imagenet_r_test)\n",
    "adversarial_performance[\"A_8blocks_B_freeze\"][\"natural_accuracy\"] = natural_accuracy\n",
    "print(\"A_8blocks_B_freeze Natural Accuracy: {:.4f}\".format(natural_accuracy))\n",
    "\n",
    "_, adv_accuracy = A_8blocks_B_freeze.evaluate(x=X_test_adv, y=y_test)\n",
    "adversarial_performance[\"A_8blocks_B_freeze\"][\"adv_accuracy\"] = adv_accuracy\n",
    "print(\"A_8blocks_B_freeze Adversarial Accuracy: {:.4f}\".format(adv_accuracy))"
   ]
  },
  {
   "cell_type": "code",
   "execution_count": 27,
   "metadata": {
    "colab": {
     "base_uri": "https://localhost:8080/"
    },
    "id": "NkLF4o_71NI6",
    "outputId": "e7d2afb1-e488-48bf-fc88-c68cb616cca2"
   },
   "outputs": [
    {
     "name": "stdout",
     "output_type": "stream",
     "text": [
      "47/47 [==============================] - 9s 64ms/step - loss: 1.7638 - accuracy: 0.5963\n",
      "A_12blocks_B Natural Accuracy: 0.5963\n",
      "188/188 [==============================] - 4s 20ms/step - loss: 4.1326 - accuracy: 0.2595\n",
      "A_12blocks_B Adversarial Accuracy: 0.2595\n"
     ]
    }
   ],
   "source": [
    "reset_tensorflow_keras_backend()\n",
    "\n",
    "adversarial_performance[\"A_12blocks_B\"] = {}\n",
    "\n",
    "_, natural_accuracy = A_12blocks_B.evaluate(imagenet_r_test)\n",
    "adversarial_performance[\"A_12blocks_B\"][\"natural_accuracy\"] = natural_accuracy\n",
    "print(\"A_12blocks_B Natural Accuracy: {:.4f}\".format(natural_accuracy))\n",
    "\n",
    "_, adv_accuracy = A_12blocks_B.evaluate(x=X_test_adv, y=y_test)\n",
    "adversarial_performance[\"A_12blocks_B\"][\"adv_accuracy\"] = adv_accuracy\n",
    "print(\"A_12blocks_B Adversarial Accuracy: {:.4f}\".format(adv_accuracy))"
   ]
  },
  {
   "cell_type": "code",
   "execution_count": 28,
   "metadata": {
    "colab": {
     "base_uri": "https://localhost:8080/"
    },
    "id": "vgRllXMp1UOy",
    "outputId": "5f33202f-989e-4e3c-e258-0e930a2cffb5"
   },
   "outputs": [
    {
     "name": "stdout",
     "output_type": "stream",
     "text": [
      "47/47 [==============================] - 10s 64ms/step - loss: 2.1939 - accuracy: 0.5287\n",
      "A_12blocks_B_freeze Natural Accuracy: 0.5287\n",
      "188/188 [==============================] - 4s 20ms/step - loss: 5.1790 - accuracy: 0.1442\n",
      "A_12blocks_B_freeze Adversarial Accuracy: 0.1442\n"
     ]
    }
   ],
   "source": [
    "reset_tensorflow_keras_backend()\n",
    "\n",
    "adversarial_performance[\"A_12blocks_B_freeze\"] = {}\n",
    "\n",
    "_, natural_accuracy = A_12blocks_B_freeze.evaluate(imagenet_r_test)\n",
    "adversarial_performance[\"A_12blocks_B_freeze\"][\"natural_accuracy\"] = natural_accuracy\n",
    "print(\"A_12blocks_B_freeze Natural Accuracy: {:.4f}\".format(natural_accuracy))\n",
    "\n",
    "_, adv_accuracy = A_12blocks_B_freeze.evaluate(x=X_test_adv, y=y_test)\n",
    "adversarial_performance[\"A_12blocks_B_freeze\"][\"adv_accuracy\"] = adv_accuracy\n",
    "print(\"A_12blocks_B_freeze Adversarial Accuracy: {:.4f}\".format(adv_accuracy))"
   ]
  },
  {
   "cell_type": "code",
   "execution_count": 29,
   "metadata": {
    "colab": {
     "base_uri": "https://localhost:8080/"
    },
    "id": "ku3WyI8Y1e_9",
    "outputId": "2321ef85-f62f-466f-ffca-e8d378caa74d"
   },
   "outputs": [
    {
     "name": "stdout",
     "output_type": "stream",
     "text": [
      "47/47 [==============================] - 10s 63ms/step - loss: 1.7673 - accuracy: 0.5965\n",
      "A_16blocks_B Natural Accuracy: 0.5965\n",
      "188/188 [==============================] - 4s 20ms/step - loss: 4.1208 - accuracy: 0.2613\n",
      "A_16blocks_B Adversarial Accuracy: 0.2613\n"
     ]
    }
   ],
   "source": [
    "reset_tensorflow_keras_backend()\n",
    "\n",
    "adversarial_performance[\"A_16blocks_B\"] = {}\n",
    "\n",
    "_, natural_accuracy = A_16blocks_B.evaluate(imagenet_r_test)\n",
    "adversarial_performance[\"A_16blocks_B\"][\"natural_accuracy\"] = natural_accuracy\n",
    "print(\"A_16blocks_B Natural Accuracy: {:.4f}\".format(natural_accuracy))\n",
    "\n",
    "_, adv_accuracy = A_16blocks_B.evaluate(x=X_test_adv, y=y_test)\n",
    "adversarial_performance[\"A_16blocks_B\"][\"adv_accuracy\"] = adv_accuracy\n",
    "print(\"A_16blocks_B Adversarial Accuracy: {:.4f}\".format(adv_accuracy))"
   ]
  },
  {
   "cell_type": "code",
   "execution_count": 30,
   "metadata": {
    "colab": {
     "base_uri": "https://localhost:8080/"
    },
    "id": "wmynguCv1jFP",
    "outputId": "6b3bb73a-f550-49e6-a61f-252a81420e23"
   },
   "outputs": [
    {
     "name": "stdout",
     "output_type": "stream",
     "text": [
      "47/47 [==============================] - 9s 63ms/step - loss: 2.7654 - accuracy: 0.4262\n",
      "A_16blocks_B_freeze Natural Accuracy: 0.4262\n",
      "188/188 [==============================] - 4s 20ms/step - loss: 6.8100 - accuracy: 0.0558\n",
      "A_16blocks_B_freeze Adversarial Accuracy: 0.0558\n"
     ]
    }
   ],
   "source": [
    "reset_tensorflow_keras_backend()\n",
    "\n",
    "adversarial_performance[\"A_16blocks_B_freeze\"] = {}\n",
    "\n",
    "_, natural_accuracy = A_16blocks_B_freeze.evaluate(imagenet_r_test)\n",
    "adversarial_performance[\"A_16blocks_B_freeze\"][\"natural_accuracy\"] = natural_accuracy\n",
    "print(\"A_16blocks_B_freeze Natural Accuracy: {:.4f}\".format(natural_accuracy))\n",
    "\n",
    "_, adv_accuracy = A_16blocks_B_freeze.evaluate(x=X_test_adv, y=y_test)\n",
    "adversarial_performance[\"A_16blocks_B_freeze\"][\"adv_accuracy\"] = adv_accuracy\n",
    "print(\"A_16blocks_B_freeze Adversarial Accuracy: {:.4f}\".format(adv_accuracy))"
   ]
  },
  {
   "cell_type": "markdown",
   "metadata": {
    "id": "yO-UAbqavJZV"
   },
   "source": [
    "---"
   ]
  },
  {
   "cell_type": "markdown",
   "metadata": {
    "id": "sllejLUMx9UC"
   },
   "source": [
    "# Adversarial Example Robustness Visualization"
   ]
  },
  {
   "cell_type": "code",
   "execution_count": 58,
   "metadata": {
    "colab": {
     "base_uri": "https://localhost:8080/"
    },
    "id": "xbQhsanXuIiD",
    "outputId": "69b7af6f-3250-4fac-dbff-a69c22d137cf"
   },
   "outputs": [
    {
     "data": {
      "text/plain": [
       "{'A_12blocks_B': {'abs_percent_changes': 0.5648406921748562,\n",
       "  'adv_accuracy': 0.25949999690055847,\n",
       "  'natural_accuracy': 0.5963333249092102},\n",
       " 'A_12blocks_B_freeze': {'abs_percent_changes': 0.7273013978717083,\n",
       "  'adv_accuracy': 0.14416666328907013,\n",
       "  'natural_accuracy': 0.5286666750907898},\n",
       " 'A_16blocks_B': {'abs_percent_changes': 0.5618887588433961,\n",
       "  'adv_accuracy': 0.2613333463668823,\n",
       "  'natural_accuracy': 0.5964999794960022},\n",
       " 'A_16blocks_B_freeze': {'abs_percent_changes': 0.8689870928084208,\n",
       "  'adv_accuracy': 0.05583333224058151,\n",
       "  'natural_accuracy': 0.4261666536331177},\n",
       " 'A_4blocks_B': {'abs_percent_changes': 0.5655210949988154,\n",
       "  'adv_accuracy': 0.2591666579246521,\n",
       "  'natural_accuracy': 0.5964999794960022},\n",
       " 'A_4blocks_B_freeze': {'abs_percent_changes': 0.6151669284278743,\n",
       "  'adv_accuracy': 0.2266666740179062,\n",
       "  'natural_accuracy': 0.5889999866485596},\n",
       " 'A_8blocks_B': {'abs_percent_changes': 0.5667971005555026,\n",
       "  'adv_accuracy': 0.25833332538604736,\n",
       "  'natural_accuracy': 0.5963333249092102},\n",
       " 'A_8blocks_B_freeze': {'abs_percent_changes': 0.662689149345237,\n",
       "  'adv_accuracy': 0.19316667318344116,\n",
       "  'natural_accuracy': 0.5726666450500488}}"
      ]
     },
     "execution_count": 58,
     "metadata": {},
     "output_type": "execute_result"
    }
   ],
   "source": [
    "for adv_performance in adversarial_performance:\n",
    "    adversarial_performance[adv_performance][\"abs_percent_changes\"] = np.abs((adversarial_performance[adv_performance][\"adv_accuracy\"] - adversarial_performance[adv_performance][\"natural_accuracy\"]) / adversarial_performance[adv_performance][\"natural_accuracy\"])\n",
    "\n",
    "adversarial_performance"
   ]
  },
  {
   "cell_type": "code",
   "execution_count": 66,
   "metadata": {
    "colab": {
     "base_uri": "https://localhost:8080/",
     "height": 328
    },
    "id": "M0BNq1f6u3BB",
    "outputId": "a8cce488-7a4b-40a6-ebf6-f375078aedc9"
   },
   "outputs": [
    {
     "data": {
      "image/png": "[encoded data removed]",
      "text/plain": [
       "<Figure size 864x360 with 2 Axes>"
      ]
     },
     "metadata": {
      "needs_background": "light"
     },
     "output_type": "display_data"
    }
   ],
   "source": [
    "fig, axs = plt.subplots(1, 2, figsize=(12, 5))\n",
    "\n",
    "plt.sca(axs[0])\n",
    "plt.plot([4, 8, 12, 16], [adversarial_performance[\"A_4blocks_B\"][\"abs_percent_changes\"] * 100, adversarial_performance[\"A_8blocks_B\"][\"abs_percent_changes\"] * 100, adversarial_performance[\"A_12blocks_B\"][\"abs_percent_changes\"] * 100, adversarial_performance[\"A_16blocks_B\"][\"abs_percent_changes\"] * 100])\n",
    "plt.xticks([4, 8, 12, 16], [\"A 4Blocks B+\", \"A 8Blocks B+\", \"A 12Blocks B+\", \"A 16Blocks B+\"])\n",
    "plt.ylabel(\"% Changes in Accuracy (Absolute) [The Lower the Better]\")\n",
    "\n",
    "plt.sca(axs[1])\n",
    "plt.plot([4, 8, 12, 16], [adversarial_performance[\"A_4blocks_B_freeze\"][\"abs_percent_changes\"] * 100, adversarial_performance[\"A_8blocks_B_freeze\"][\"abs_percent_changes\"] * 100, adversarial_performance[\"A_12blocks_B_freeze\"][\"abs_percent_changes\"] * 100, adversarial_performance[\"A_16blocks_B_freeze\"][\"abs_percent_changes\"] * 100])\n",
    "plt.xticks([4, 8, 12, 16], [\"A 4Blocks B\", \"A 8Blocks B\", \"A 12Blocks B\", \"A 16Blocks B\"])\n",
    "\n",
    "plt.savefig(\"adversarial_performance.png\", dpi=1200, bbox_inches=\"tight\")\n",
    "plt.show()"
   ]
  },
  {
   "cell_type": "markdown",
   "metadata": {
    "id": "OM13Y4LiEtNT"
   },
   "source": [
    "---"
   ]
  }
 ],
 "metadata": {
  "accelerator": "GPU",
  "colab": {
   "collapsed_sections": [],
   "machine_shape": "hm",
   "name": "FINAL_VERSION_DSUA_301_Final_Project.ipynb",
   "provenance": []
  },
  "kernelspec": {
   "display_name": "Python 3 (ipykernel)",
   "language": "python",
   "name": "python3"
  },
  "language_info": {
   "codemirror_mode": {
    "name": "ipython",
    "version": 3
   },
   "file_extension": ".py",
   "mimetype": "text/x-python",
   "name": "python",
   "nbconvert_exporter": "python",
   "pygments_lexer": "ipython3",
   "version": "3.10.2"
  },
  "widgets": {
   "application/vnd.jupyter.widget-state+json": {
    "045320a72363478d8aef6428a5506b7f": {
     "model_module": "@jupyter-widgets/controls",
     "model_module_version": "1.5.0",
     "model_name": "DescriptionStyleModel",
     "state": {
      "_model_module": "@jupyter-widgets/controls",
      "_model_module_version": "1.5.0",
      "_model_name": "DescriptionStyleModel",
      "_view_count": null,
      "_view_module": "@jupyter-widgets/base",
      "_view_module_version": "1.2.0",
      "_view_name": "StyleView",
      "description_width": ""
     }
    },
    "0f60c9cf1f484920bcebaa3c3166b55c": {
     "model_module": "@jupyter-widgets/base",
     "model_module_version": "1.2.0",
     "model_name": "LayoutModel",
     "state": {
      "_model_module": "@jupyter-widgets/base",
      "_model_module_version": "1.2.0",
      "_model_name": "LayoutModel",
      "_view_count": null,
      "_view_module": "@jupyter-widgets/base",
      "_view_module_version": "1.2.0",
      "_view_name": "LayoutView",
      "align_content": null,
      "align_items": null,
      "align_self": null,
      "border": null,
      "bottom": null,
      "display": null,
      "flex": null,
      "flex_flow": null,
      "grid_area": null,
      "grid_auto_columns": null,
      "grid_auto_flow": null,
      "grid_auto_rows": null,
      "grid_column": null,
      "grid_gap": null,
      "grid_row": null,
      "grid_template_areas": null,
      "grid_template_columns": null,
      "grid_template_rows": null,
      "height": null,
      "justify_content": null,
      "justify_items": null,
      "left": null,
      "margin": null,
      "max_height": null,
      "max_width": null,
      "min_height": null,
      "min_width": null,
      "object_fit": null,
      "object_position": null,
      "order": null,
      "overflow": null,
      "overflow_x": null,
      "overflow_y": null,
      "padding": null,
      "right": null,
      "top": null,
      "visibility": null,
      "width": null
     }
    },
    "1501b2b706e84d8eba03510aa0ec5d20": {
     "model_module": "@jupyter-widgets/controls",
     "model_module_version": "1.5.0",
     "model_name": "ProgressStyleModel",
     "state": {
      "_model_module": "@jupyter-widgets/controls",
      "_model_module_version": "1.5.0",
      "_model_name": "ProgressStyleModel",
      "_view_count": null,
      "_view_module": "@jupyter-widgets/base",
      "_view_module_version": "1.2.0",
      "_view_name": "StyleView",
      "bar_color": null,
      "description_width": ""
     }
    },
    "22f94c4383e64a579c54c6fec3f3d487": {
     "model_module": "@jupyter-widgets/base",
     "model_module_version": "1.2.0",
     "model_name": "LayoutModel",
     "state": {
      "_model_module": "@jupyter-widgets/base",
      "_model_module_version": "1.2.0",
      "_model_name": "LayoutModel",
      "_view_count": null,
      "_view_module": "@jupyter-widgets/base",
      "_view_module_version": "1.2.0",
      "_view_name": "LayoutView",
      "align_content": null,
      "align_items": null,
      "align_self": null,
      "border": null,
      "bottom": null,
      "display": null,
      "flex": null,
      "flex_flow": null,
      "grid_area": null,
      "grid_auto_columns": null,
      "grid_auto_flow": null,
      "grid_auto_rows": null,
      "grid_column": null,
      "grid_gap": null,
      "grid_row": null,
      "grid_template_areas": null,
      "grid_template_columns": null,
      "grid_template_rows": null,
      "height": null,
      "justify_content": null,
      "justify_items": null,
      "left": null,
      "margin": null,
      "max_height": null,
      "max_width": null,
      "min_height": null,
      "min_width": null,
      "object_fit": null,
      "object_position": null,
      "order": null,
      "overflow": null,
      "overflow_x": null,
      "overflow_y": null,
      "padding": null,
      "right": null,
      "top": null,
      "visibility": null,
      "width": null
     }
    },
    "260a9dd70e964668bad57a8bac99d97d": {
     "model_module": "@jupyter-widgets/controls",
     "model_module_version": "1.5.0",
     "model_name": "DescriptionStyleModel",
     "state": {
      "_model_module": "@jupyter-widgets/controls",
      "_model_module_version": "1.5.0",
      "_model_name": "DescriptionStyleModel",
      "_view_count": null,
      "_view_module": "@jupyter-widgets/base",
      "_view_module_version": "1.2.0",
      "_view_name": "StyleView",
      "description_width": ""
     }
    },
    "2aa7a89170aa41cdab19316bd1cf863b": {
     "model_module": "@jupyter-widgets/base",
     "model_module_version": "1.2.0",
     "model_name": "LayoutModel",
     "state": {
      "_model_module": "@jupyter-widgets/base",
      "_model_module_version": "1.2.0",
      "_model_name": "LayoutModel",
      "_view_count": null,
      "_view_module": "@jupyter-widgets/base",
      "_view_module_version": "1.2.0",
      "_view_name": "LayoutView",
      "align_content": null,
      "align_items": null,
      "align_self": null,
      "border": null,
      "bottom": null,
      "display": null,
      "flex": null,
      "flex_flow": null,
      "grid_area": null,
      "grid_auto_columns": null,
      "grid_auto_flow": null,
      "grid_auto_rows": null,
      "grid_column": null,
      "grid_gap": null,
      "grid_row": null,
      "grid_template_areas": null,
      "grid_template_columns": null,
      "grid_template_rows": null,
      "height": null,
      "justify_content": null,
      "justify_items": null,
      "left": null,
      "margin": null,
      "max_height": null,
      "max_width": null,
      "min_height": null,
      "min_width": null,
      "object_fit": null,
      "object_position": null,
      "order": null,
      "overflow": null,
      "overflow_x": null,
      "overflow_y": null,
      "padding": null,
      "right": null,
      "top": null,
      "visibility": null,
      "width": null
     }
    },
    "35bac6fbad15429499531eb31d43c44a": {
     "model_module": "@jupyter-widgets/controls",
     "model_module_version": "1.5.0",
     "model_name": "HBoxModel",
     "state": {
      "_dom_classes": [],
      "_model_module": "@jupyter-widgets/controls",
      "_model_module_version": "1.5.0",
      "_model_name": "HBoxModel",
      "_view_count": null,
      "_view_module": "@jupyter-widgets/controls",
      "_view_module_version": "1.5.0",
      "_view_name": "HBoxView",
      "box_style": "",
      "children": [
       "IPY_MODEL_81fb3adb55ad4e949b07c3c086db2483",
       "IPY_MODEL_b93b2b6a5eb648b2bf1b15b0e72f4ac1",
       "IPY_MODEL_91ce959620bd4f36ae63fa0e3e15bcf3"
      ],
      "layout": "IPY_MODEL_e4e808b74aef4a7d8ba1f6a338bc0e3e"
     }
    },
    "386a00d61c244379ab5e5b3022520fab": {
     "model_module": "@jupyter-widgets/controls",
     "model_module_version": "1.5.0",
     "model_name": "HTMLModel",
     "state": {
      "_dom_classes": [],
      "_model_module": "@jupyter-widgets/controls",
      "_model_module_version": "1.5.0",
      "_model_name": "HTMLModel",
      "_view_count": null,
      "_view_module": "@jupyter-widgets/controls",
      "_view_module_version": "1.5.0",
      "_view_name": "HTMLView",
      "description": "",
      "description_tooltip": null,
      "layout": "IPY_MODEL_a3e96fb1754044ba911d001b000e8394",
      "placeholder": "​",
      "style": "IPY_MODEL_67a9c86105054ba88a2cc045e7a031a5",
      "value": "100%"
     }
    },
    "3acdaef17859457589c4ebe2241307c5": {
     "model_module": "@jupyter-widgets/controls",
     "model_module_version": "1.5.0",
     "model_name": "DescriptionStyleModel",
     "state": {
      "_model_module": "@jupyter-widgets/controls",
      "_model_module_version": "1.5.0",
      "_model_name": "DescriptionStyleModel",
      "_view_count": null,
      "_view_module": "@jupyter-widgets/base",
      "_view_module_version": "1.2.0",
      "_view_name": "StyleView",
      "description_width": ""
     }
    },
    "3b5e2cc251184ab2802a19afeced1a28": {
     "model_module": "@jupyter-widgets/base",
     "model_module_version": "1.2.0",
     "model_name": "LayoutModel",
     "state": {
      "_model_module": "@jupyter-widgets/base",
      "_model_module_version": "1.2.0",
      "_model_name": "LayoutModel",
      "_view_count": null,
      "_view_module": "@jupyter-widgets/base",
      "_view_module_version": "1.2.0",
      "_view_name": "LayoutView",
      "align_content": null,
      "align_items": null,
      "align_self": null,
      "border": null,
      "bottom": null,
      "display": null,
      "flex": null,
      "flex_flow": null,
      "grid_area": null,
      "grid_auto_columns": null,
      "grid_auto_flow": null,
      "grid_auto_rows": null,
      "grid_column": null,
      "grid_gap": null,
      "grid_row": null,
      "grid_template_areas": null,
      "grid_template_columns": null,
      "grid_template_rows": null,
      "height": null,
      "justify_content": null,
      "justify_items": null,
      "left": null,
      "margin": null,
      "max_height": null,
      "max_width": null,
      "min_height": null,
      "min_width": null,
      "object_fit": null,
      "object_position": null,
      "order": null,
      "overflow": null,
      "overflow_x": null,
      "overflow_y": null,
      "padding": null,
      "right": null,
      "top": null,
      "visibility": null,
      "width": null
     }
    },
    "434b8ccd48af4f838c9dd9e381676ace": {
     "model_module": "@jupyter-widgets/base",
     "model_module_version": "1.2.0",
     "model_name": "LayoutModel",
     "state": {
      "_model_module": "@jupyter-widgets/base",
      "_model_module_version": "1.2.0",
      "_model_name": "LayoutModel",
      "_view_count": null,
      "_view_module": "@jupyter-widgets/base",
      "_view_module_version": "1.2.0",
      "_view_name": "LayoutView",
      "align_content": null,
      "align_items": null,
      "align_self": null,
      "border": null,
      "bottom": null,
      "display": null,
      "flex": null,
      "flex_flow": null,
      "grid_area": null,
      "grid_auto_columns": null,
      "grid_auto_flow": null,
      "grid_auto_rows": null,
      "grid_column": null,
      "grid_gap": null,
      "grid_row": null,
      "grid_template_areas": null,
      "grid_template_columns": null,
      "grid_template_rows": null,
      "height": null,
      "justify_content": null,
      "justify_items": null,
      "left": null,
      "margin": null,
      "max_height": null,
      "max_width": null,
      "min_height": null,
      "min_width": null,
      "object_fit": null,
      "object_position": null,
      "order": null,
      "overflow": null,
      "overflow_x": null,
      "overflow_y": null,
      "padding": null,
      "right": null,
      "top": null,
      "visibility": null,
      "width": null
     }
    },
    "4dc128d63a114c8781a0dfa455737409": {
     "model_module": "@jupyter-widgets/base",
     "model_module_version": "1.2.0",
     "model_name": "LayoutModel",
     "state": {
      "_model_module": "@jupyter-widgets/base",
      "_model_module_version": "1.2.0",
      "_model_name": "LayoutModel",
      "_view_count": null,
      "_view_module": "@jupyter-widgets/base",
      "_view_module_version": "1.2.0",
      "_view_name": "LayoutView",
      "align_content": null,
      "align_items": null,
      "align_self": null,
      "border": null,
      "bottom": null,
      "display": null,
      "flex": null,
      "flex_flow": null,
      "grid_area": null,
      "grid_auto_columns": null,
      "grid_auto_flow": null,
      "grid_auto_rows": null,
      "grid_column": null,
      "grid_gap": null,
      "grid_row": null,
      "grid_template_areas": null,
      "grid_template_columns": null,
      "grid_template_rows": null,
      "height": null,
      "justify_content": null,
      "justify_items": null,
      "left": null,
      "margin": null,
      "max_height": null,
      "max_width": null,
      "min_height": null,
      "min_width": null,
      "object_fit": null,
      "object_position": null,
      "order": null,
      "overflow": null,
      "overflow_x": null,
      "overflow_y": null,
      "padding": null,
      "right": null,
      "top": null,
      "visibility": null,
      "width": "20px"
     }
    },
    "5384fd45a8b44e47bfce8a5aedb43eab": {
     "model_module": "@jupyter-widgets/base",
     "model_module_version": "1.2.0",
     "model_name": "LayoutModel",
     "state": {
      "_model_module": "@jupyter-widgets/base",
      "_model_module_version": "1.2.0",
      "_model_name": "LayoutModel",
      "_view_count": null,
      "_view_module": "@jupyter-widgets/base",
      "_view_module_version": "1.2.0",
      "_view_name": "LayoutView",
      "align_content": null,
      "align_items": null,
      "align_self": null,
      "border": null,
      "bottom": null,
      "display": null,
      "flex": null,
      "flex_flow": null,
      "grid_area": null,
      "grid_auto_columns": null,
      "grid_auto_flow": null,
      "grid_auto_rows": null,
      "grid_column": null,
      "grid_gap": null,
      "grid_row": null,
      "grid_template_areas": null,
      "grid_template_columns": null,
      "grid_template_rows": null,
      "height": null,
      "justify_content": null,
      "justify_items": null,
      "left": null,
      "margin": null,
      "max_height": null,
      "max_width": null,
      "min_height": null,
      "min_width": null,
      "object_fit": null,
      "object_position": null,
      "order": null,
      "overflow": null,
      "overflow_x": null,
      "overflow_y": null,
      "padding": null,
      "right": null,
      "top": null,
      "visibility": null,
      "width": null
     }
    },
    "59323ed44a43444f95023fd099ecb6c1": {
     "model_module": "@jupyter-widgets/controls",
     "model_module_version": "1.5.0",
     "model_name": "FloatProgressModel",
     "state": {
      "_dom_classes": [],
      "_model_module": "@jupyter-widgets/controls",
      "_model_module_version": "1.5.0",
      "_model_name": "FloatProgressModel",
      "_view_count": null,
      "_view_module": "@jupyter-widgets/controls",
      "_view_module_version": "1.5.0",
      "_view_name": "ProgressView",
      "bar_style": "info",
      "description": "",
      "description_tooltip": null,
      "layout": "IPY_MODEL_4dc128d63a114c8781a0dfa455737409",
      "max": 1,
      "min": 0,
      "orientation": "horizontal",
      "style": "IPY_MODEL_bd4780dfbdcc4322ad5ab0d648dda950",
      "value": 1
     }
    },
    "5c603c613f4546f691b0fde3f421622a": {
     "model_module": "@jupyter-widgets/controls",
     "model_module_version": "1.5.0",
     "model_name": "HTMLModel",
     "state": {
      "_dom_classes": [],
      "_model_module": "@jupyter-widgets/controls",
      "_model_module_version": "1.5.0",
      "_model_name": "HTMLModel",
      "_view_count": null,
      "_view_module": "@jupyter-widgets/controls",
      "_view_module_version": "1.5.0",
      "_view_name": "HTMLView",
      "description": "",
      "description_tooltip": null,
      "layout": "IPY_MODEL_c4f4f6427ede4a29986c11a5b2a94771",
      "placeholder": "​",
      "style": "IPY_MODEL_045320a72363478d8aef6428a5506b7f",
      "value": " 29862/0 [00:16&lt;00:00, 1975.03 examples/s]"
     }
    },
    "5d06c605d03f4ee4be09ec1e25544018": {
     "model_module": "@jupyter-widgets/controls",
     "model_module_version": "1.5.0",
     "model_name": "HTMLModel",
     "state": {
      "_dom_classes": [],
      "_model_module": "@jupyter-widgets/controls",
      "_model_module_version": "1.5.0",
      "_model_name": "HTMLModel",
      "_view_count": null,
      "_view_module": "@jupyter-widgets/controls",
      "_view_module_version": "1.5.0",
      "_view_name": "HTMLView",
      "description": "",
      "description_tooltip": null,
      "layout": "IPY_MODEL_0f60c9cf1f484920bcebaa3c3166b55c",
      "placeholder": "​",
      "style": "IPY_MODEL_260a9dd70e964668bad57a8bac99d97d",
      "value": ""
     }
    },
    "5dac7388c39e44f7875f01416d13e6c1": {
     "model_module": "@jupyter-widgets/base",
     "model_module_version": "1.2.0",
     "model_name": "LayoutModel",
     "state": {
      "_model_module": "@jupyter-widgets/base",
      "_model_module_version": "1.2.0",
      "_model_name": "LayoutModel",
      "_view_count": null,
      "_view_module": "@jupyter-widgets/base",
      "_view_module_version": "1.2.0",
      "_view_name": "LayoutView",
      "align_content": null,
      "align_items": null,
      "align_self": null,
      "border": null,
      "bottom": null,
      "display": null,
      "flex": null,
      "flex_flow": null,
      "grid_area": null,
      "grid_auto_columns": null,
      "grid_auto_flow": null,
      "grid_auto_rows": null,
      "grid_column": null,
      "grid_gap": null,
      "grid_row": null,
      "grid_template_areas": null,
      "grid_template_columns": null,
      "grid_template_rows": null,
      "height": null,
      "justify_content": null,
      "justify_items": null,
      "left": null,
      "margin": null,
      "max_height": null,
      "max_width": null,
      "min_height": null,
      "min_width": null,
      "object_fit": null,
      "object_position": null,
      "order": null,
      "overflow": null,
      "overflow_x": null,
      "overflow_y": null,
      "padding": null,
      "right": null,
      "top": null,
      "visibility": null,
      "width": "20px"
     }
    },
    "602f1d6fb4534756aff80a573dbe5a28": {
     "model_module": "@jupyter-widgets/controls",
     "model_module_version": "1.5.0",
     "model_name": "HTMLModel",
     "state": {
      "_dom_classes": [],
      "_model_module": "@jupyter-widgets/controls",
      "_model_module_version": "1.5.0",
      "_model_name": "HTMLModel",
      "_view_count": null,
      "_view_module": "@jupyter-widgets/controls",
      "_view_module_version": "1.5.0",
      "_view_name": "HTMLView",
      "description": "",
      "description_tooltip": null,
      "layout": "IPY_MODEL_94a752338039425486f63728cf3c3f05",
      "placeholder": "​",
      "style": "IPY_MODEL_3acdaef17859457589c4ebe2241307c5",
      "value": " 2089/2089 [02:01&lt;00:00, 19.40 MiB/s]"
     }
    },
    "67a9c86105054ba88a2cc045e7a031a5": {
     "model_module": "@jupyter-widgets/controls",
     "model_module_version": "1.5.0",
     "model_name": "DescriptionStyleModel",
     "state": {
      "_model_module": "@jupyter-widgets/controls",
      "_model_module_version": "1.5.0",
      "_model_name": "DescriptionStyleModel",
      "_view_count": null,
      "_view_module": "@jupyter-widgets/base",
      "_view_module_version": "1.2.0",
      "_view_name": "StyleView",
      "description_width": ""
     }
    },
    "6d85fee5a9a142318aef9b5ebe1060b5": {
     "model_module": "@jupyter-widgets/controls",
     "model_module_version": "1.5.0",
     "model_name": "FloatProgressModel",
     "state": {
      "_dom_classes": [],
      "_model_module": "@jupyter-widgets/controls",
      "_model_module_version": "1.5.0",
      "_model_name": "FloatProgressModel",
      "_view_count": null,
      "_view_module": "@jupyter-widgets/controls",
      "_view_module_version": "1.5.0",
      "_view_name": "ProgressView",
      "bar_style": "success",
      "description": "",
      "description_tooltip": null,
      "layout": "IPY_MODEL_b7af89d9d82c47198b8ccb1e68b931ad",
      "max": 1,
      "min": 0,
      "orientation": "horizontal",
      "style": "IPY_MODEL_f06943067f474292bc7f859e58b95333",
      "value": 1
     }
    },
    "723c72920d654af1b4732a5360220af1": {
     "model_module": "@jupyter-widgets/controls",
     "model_module_version": "1.5.0",
     "model_name": "HBoxModel",
     "state": {
      "_dom_classes": [],
      "_model_module": "@jupyter-widgets/controls",
      "_model_module_version": "1.5.0",
      "_model_name": "HBoxModel",
      "_view_count": null,
      "_view_module": "@jupyter-widgets/controls",
      "_view_module_version": "1.5.0",
      "_view_name": "HBoxView",
      "box_style": "",
      "children": [
       "IPY_MODEL_5d06c605d03f4ee4be09ec1e25544018",
       "IPY_MODEL_59323ed44a43444f95023fd099ecb6c1",
       "IPY_MODEL_5c603c613f4546f691b0fde3f421622a"
      ],
      "layout": "IPY_MODEL_750bffa2141540088cbb8e2b4c5020ed"
     }
    },
    "74b605e4c46b41c59d3227933a74636b": {
     "model_module": "@jupyter-widgets/controls",
     "model_module_version": "1.5.0",
     "model_name": "DescriptionStyleModel",
     "state": {
      "_model_module": "@jupyter-widgets/controls",
      "_model_module_version": "1.5.0",
      "_model_name": "DescriptionStyleModel",
      "_view_count": null,
      "_view_module": "@jupyter-widgets/base",
      "_view_module_version": "1.2.0",
      "_view_name": "StyleView",
      "description_width": ""
     }
    },
    "750bffa2141540088cbb8e2b4c5020ed": {
     "model_module": "@jupyter-widgets/base",
     "model_module_version": "1.2.0",
     "model_name": "LayoutModel",
     "state": {
      "_model_module": "@jupyter-widgets/base",
      "_model_module_version": "1.2.0",
      "_model_name": "LayoutModel",
      "_view_count": null,
      "_view_module": "@jupyter-widgets/base",
      "_view_module_version": "1.2.0",
      "_view_name": "LayoutView",
      "align_content": null,
      "align_items": null,
      "align_self": null,
      "border": null,
      "bottom": null,
      "display": null,
      "flex": null,
      "flex_flow": null,
      "grid_area": null,
      "grid_auto_columns": null,
      "grid_auto_flow": null,
      "grid_auto_rows": null,
      "grid_column": null,
      "grid_gap": null,
      "grid_row": null,
      "grid_template_areas": null,
      "grid_template_columns": null,
      "grid_template_rows": null,
      "height": null,
      "justify_content": null,
      "justify_items": null,
      "left": null,
      "margin": null,
      "max_height": null,
      "max_width": null,
      "min_height": null,
      "min_width": null,
      "object_fit": null,
      "object_position": null,
      "order": null,
      "overflow": null,
      "overflow_x": null,
      "overflow_y": null,
      "padding": null,
      "right": null,
      "top": null,
      "visibility": null,
      "width": null
     }
    },
    "774c6e0ee62e4096887f9f86896bfdf5": {
     "model_module": "@jupyter-widgets/controls",
     "model_module_version": "1.5.0",
     "model_name": "FloatProgressModel",
     "state": {
      "_dom_classes": [],
      "_model_module": "@jupyter-widgets/controls",
      "_model_module_version": "1.5.0",
      "_model_name": "FloatProgressModel",
      "_view_count": null,
      "_view_module": "@jupyter-widgets/controls",
      "_view_module_version": "1.5.0",
      "_view_name": "ProgressView",
      "bar_style": "success",
      "description": "",
      "description_tooltip": null,
      "layout": "IPY_MODEL_5dac7388c39e44f7875f01416d13e6c1",
      "max": 1,
      "min": 0,
      "orientation": "horizontal",
      "style": "IPY_MODEL_b93c5680ec484001b7adeb5b9d7801bb",
      "value": 1
     }
    },
    "7764a93d41304795a201546edad3677d": {
     "model_module": "@jupyter-widgets/base",
     "model_module_version": "1.2.0",
     "model_name": "LayoutModel",
     "state": {
      "_model_module": "@jupyter-widgets/base",
      "_model_module_version": "1.2.0",
      "_model_name": "LayoutModel",
      "_view_count": null,
      "_view_module": "@jupyter-widgets/base",
      "_view_module_version": "1.2.0",
      "_view_name": "LayoutView",
      "align_content": null,
      "align_items": null,
      "align_self": null,
      "border": null,
      "bottom": null,
      "display": null,
      "flex": null,
      "flex_flow": null,
      "grid_area": null,
      "grid_auto_columns": null,
      "grid_auto_flow": null,
      "grid_auto_rows": null,
      "grid_column": null,
      "grid_gap": null,
      "grid_row": null,
      "grid_template_areas": null,
      "grid_template_columns": null,
      "grid_template_rows": null,
      "height": null,
      "justify_content": null,
      "justify_items": null,
      "left": null,
      "margin": null,
      "max_height": null,
      "max_width": null,
      "min_height": null,
      "min_width": null,
      "object_fit": null,
      "object_position": null,
      "order": null,
      "overflow": null,
      "overflow_x": null,
      "overflow_y": null,
      "padding": null,
      "right": null,
      "top": null,
      "visibility": null,
      "width": null
     }
    },
    "790974bc273a4eefa4ba13b239d91b75": {
     "model_module": "@jupyter-widgets/controls",
     "model_module_version": "1.5.0",
     "model_name": "HBoxModel",
     "state": {
      "_dom_classes": [],
      "_model_module": "@jupyter-widgets/controls",
      "_model_module_version": "1.5.0",
      "_model_name": "HBoxModel",
      "_view_count": null,
      "_view_module": "@jupyter-widgets/controls",
      "_view_module_version": "1.5.0",
      "_view_name": "HBoxView",
      "box_style": "",
      "children": [
       "IPY_MODEL_386a00d61c244379ab5e5b3022520fab",
       "IPY_MODEL_c0f4aec11bf346c3bb2acf5b6e4e65b4",
       "IPY_MODEL_c58cdda04e9b4da9a7c9f0239d75a34c"
      ],
      "layout": "IPY_MODEL_e40a93b5426c4bacb13a807a5a7eab0f"
     }
    },
    "7a35e58e1dc8472fbe1fbcd7331e291d": {
     "model_module": "@jupyter-widgets/base",
     "model_module_version": "1.2.0",
     "model_name": "LayoutModel",
     "state": {
      "_model_module": "@jupyter-widgets/base",
      "_model_module_version": "1.2.0",
      "_model_name": "LayoutModel",
      "_view_count": null,
      "_view_module": "@jupyter-widgets/base",
      "_view_module_version": "1.2.0",
      "_view_name": "LayoutView",
      "align_content": null,
      "align_items": null,
      "align_self": null,
      "border": null,
      "bottom": null,
      "display": null,
      "flex": null,
      "flex_flow": null,
      "grid_area": null,
      "grid_auto_columns": null,
      "grid_auto_flow": null,
      "grid_auto_rows": null,
      "grid_column": null,
      "grid_gap": null,
      "grid_row": null,
      "grid_template_areas": null,
      "grid_template_columns": null,
      "grid_template_rows": null,
      "height": null,
      "justify_content": null,
      "justify_items": null,
      "left": null,
      "margin": null,
      "max_height": null,
      "max_width": null,
      "min_height": null,
      "min_width": null,
      "object_fit": null,
      "object_position": null,
      "order": null,
      "overflow": null,
      "overflow_x": null,
      "overflow_y": null,
      "padding": null,
      "right": null,
      "top": null,
      "visibility": null,
      "width": null
     }
    },
    "81fb3adb55ad4e949b07c3c086db2483": {
     "model_module": "@jupyter-widgets/controls",
     "model_module_version": "1.5.0",
     "model_name": "HTMLModel",
     "state": {
      "_dom_classes": [],
      "_model_module": "@jupyter-widgets/controls",
      "_model_module_version": "1.5.0",
      "_model_name": "HTMLModel",
      "_view_count": null,
      "_view_module": "@jupyter-widgets/controls",
      "_view_module_version": "1.5.0",
      "_view_name": "HTMLView",
      "description": "",
      "description_tooltip": null,
      "layout": "IPY_MODEL_434b8ccd48af4f838c9dd9e381676ace",
      "placeholder": "​",
      "style": "IPY_MODEL_86a94dcbdda94497bb0ed78224fb786d",
      "value": "Extraction completed...: 100%"
     }
    },
    "86a94dcbdda94497bb0ed78224fb786d": {
     "model_module": "@jupyter-widgets/controls",
     "model_module_version": "1.5.0",
     "model_name": "DescriptionStyleModel",
     "state": {
      "_model_module": "@jupyter-widgets/controls",
      "_model_module_version": "1.5.0",
      "_model_name": "DescriptionStyleModel",
      "_view_count": null,
      "_view_module": "@jupyter-widgets/base",
      "_view_module_version": "1.2.0",
      "_view_name": "StyleView",
      "description_width": ""
     }
    },
    "8962717338014286988b460886483f93": {
     "model_module": "@jupyter-widgets/controls",
     "model_module_version": "1.5.0",
     "model_name": "DescriptionStyleModel",
     "state": {
      "_model_module": "@jupyter-widgets/controls",
      "_model_module_version": "1.5.0",
      "_model_name": "DescriptionStyleModel",
      "_view_count": null,
      "_view_module": "@jupyter-widgets/base",
      "_view_module_version": "1.2.0",
      "_view_name": "StyleView",
      "description_width": ""
     }
    },
    "91ce959620bd4f36ae63fa0e3e15bcf3": {
     "model_module": "@jupyter-widgets/controls",
     "model_module_version": "1.5.0",
     "model_name": "HTMLModel",
     "state": {
      "_dom_classes": [],
      "_model_module": "@jupyter-widgets/controls",
      "_model_module_version": "1.5.0",
      "_model_name": "HTMLModel",
      "_view_count": null,
      "_view_module": "@jupyter-widgets/controls",
      "_view_module_version": "1.5.0",
      "_view_name": "HTMLView",
      "description": "",
      "description_tooltip": null,
      "layout": "IPY_MODEL_5384fd45a8b44e47bfce8a5aedb43eab",
      "placeholder": "​",
      "style": "IPY_MODEL_bc87e2b000c94afeae0354ca6d39b803",
      "value": " 1/1 [02:01&lt;00:00, 121.57s/ file]"
     }
    },
    "94a752338039425486f63728cf3c3f05": {
     "model_module": "@jupyter-widgets/base",
     "model_module_version": "1.2.0",
     "model_name": "LayoutModel",
     "state": {
      "_model_module": "@jupyter-widgets/base",
      "_model_module_version": "1.2.0",
      "_model_name": "LayoutModel",
      "_view_count": null,
      "_view_module": "@jupyter-widgets/base",
      "_view_module_version": "1.2.0",
      "_view_name": "LayoutView",
      "align_content": null,
      "align_items": null,
      "align_self": null,
      "border": null,
      "bottom": null,
      "display": null,
      "flex": null,
      "flex_flow": null,
      "grid_area": null,
      "grid_auto_columns": null,
      "grid_auto_flow": null,
      "grid_auto_rows": null,
      "grid_column": null,
      "grid_gap": null,
      "grid_row": null,
      "grid_template_areas": null,
      "grid_template_columns": null,
      "grid_template_rows": null,
      "height": null,
      "justify_content": null,
      "justify_items": null,
      "left": null,
      "margin": null,
      "max_height": null,
      "max_width": null,
      "min_height": null,
      "min_width": null,
      "object_fit": null,
      "object_position": null,
      "order": null,
      "overflow": null,
      "overflow_x": null,
      "overflow_y": null,
      "padding": null,
      "right": null,
      "top": null,
      "visibility": null,
      "width": null
     }
    },
    "992bcd9699e94b37b64a1e40bbed8f9e": {
     "model_module": "@jupyter-widgets/controls",
     "model_module_version": "1.5.0",
     "model_name": "ProgressStyleModel",
     "state": {
      "_model_module": "@jupyter-widgets/controls",
      "_model_module_version": "1.5.0",
      "_model_name": "ProgressStyleModel",
      "_view_count": null,
      "_view_module": "@jupyter-widgets/base",
      "_view_module_version": "1.2.0",
      "_view_name": "StyleView",
      "bar_color": null,
      "description_width": ""
     }
    },
    "a3e96fb1754044ba911d001b000e8394": {
     "model_module": "@jupyter-widgets/base",
     "model_module_version": "1.2.0",
     "model_name": "LayoutModel",
     "state": {
      "_model_module": "@jupyter-widgets/base",
      "_model_module_version": "1.2.0",
      "_model_name": "LayoutModel",
      "_view_count": null,
      "_view_module": "@jupyter-widgets/base",
      "_view_module_version": "1.2.0",
      "_view_name": "LayoutView",
      "align_content": null,
      "align_items": null,
      "align_self": null,
      "border": null,
      "bottom": null,
      "display": null,
      "flex": null,
      "flex_flow": null,
      "grid_area": null,
      "grid_auto_columns": null,
      "grid_auto_flow": null,
      "grid_auto_rows": null,
      "grid_column": null,
      "grid_gap": null,
      "grid_row": null,
      "grid_template_areas": null,
      "grid_template_columns": null,
      "grid_template_rows": null,
      "height": null,
      "justify_content": null,
      "justify_items": null,
      "left": null,
      "margin": null,
      "max_height": null,
      "max_width": null,
      "min_height": null,
      "min_width": null,
      "object_fit": null,
      "object_position": null,
      "order": null,
      "overflow": null,
      "overflow_x": null,
      "overflow_y": null,
      "padding": null,
      "right": null,
      "top": null,
      "visibility": null,
      "width": null
     }
    },
    "b7af89d9d82c47198b8ccb1e68b931ad": {
     "model_module": "@jupyter-widgets/base",
     "model_module_version": "1.2.0",
     "model_name": "LayoutModel",
     "state": {
      "_model_module": "@jupyter-widgets/base",
      "_model_module_version": "1.2.0",
      "_model_name": "LayoutModel",
      "_view_count": null,
      "_view_module": "@jupyter-widgets/base",
      "_view_module_version": "1.2.0",
      "_view_name": "LayoutView",
      "align_content": null,
      "align_items": null,
      "align_self": null,
      "border": null,
      "bottom": null,
      "display": null,
      "flex": null,
      "flex_flow": null,
      "grid_area": null,
      "grid_auto_columns": null,
      "grid_auto_flow": null,
      "grid_auto_rows": null,
      "grid_column": null,
      "grid_gap": null,
      "grid_row": null,
      "grid_template_areas": null,
      "grid_template_columns": null,
      "grid_template_rows": null,
      "height": null,
      "justify_content": null,
      "justify_items": null,
      "left": null,
      "margin": null,
      "max_height": null,
      "max_width": null,
      "min_height": null,
      "min_width": null,
      "object_fit": null,
      "object_position": null,
      "order": null,
      "overflow": null,
      "overflow_x": null,
      "overflow_y": null,
      "padding": null,
      "right": null,
      "top": null,
      "visibility": null,
      "width": "20px"
     }
    },
    "b87021c1d4d34a6daa4399991ec97992": {
     "model_module": "@jupyter-widgets/controls",
     "model_module_version": "1.5.0",
     "model_name": "HTMLModel",
     "state": {
      "_dom_classes": [],
      "_model_module": "@jupyter-widgets/controls",
      "_model_module_version": "1.5.0",
      "_model_name": "HTMLModel",
      "_view_count": null,
      "_view_module": "@jupyter-widgets/controls",
      "_view_module_version": "1.5.0",
      "_view_name": "HTMLView",
      "description": "",
      "description_tooltip": null,
      "layout": "IPY_MODEL_7a35e58e1dc8472fbe1fbcd7331e291d",
      "placeholder": "​",
      "style": "IPY_MODEL_74b605e4c46b41c59d3227933a74636b",
      "value": "Dl Completed...: 100%"
     }
    },
    "b93b2b6a5eb648b2bf1b15b0e72f4ac1": {
     "model_module": "@jupyter-widgets/controls",
     "model_module_version": "1.5.0",
     "model_name": "FloatProgressModel",
     "state": {
      "_dom_classes": [],
      "_model_module": "@jupyter-widgets/controls",
      "_model_module_version": "1.5.0",
      "_model_name": "FloatProgressModel",
      "_view_count": null,
      "_view_module": "@jupyter-widgets/controls",
      "_view_module_version": "1.5.0",
      "_view_name": "ProgressView",
      "bar_style": "success",
      "description": "",
      "description_tooltip": null,
      "layout": "IPY_MODEL_ed3636cfd8ab417698f5aba5cfc344a7",
      "max": 1,
      "min": 0,
      "orientation": "horizontal",
      "style": "IPY_MODEL_1501b2b706e84d8eba03510aa0ec5d20",
      "value": 1
     }
    },
    "b93c5680ec484001b7adeb5b9d7801bb": {
     "model_module": "@jupyter-widgets/controls",
     "model_module_version": "1.5.0",
     "model_name": "ProgressStyleModel",
     "state": {
      "_model_module": "@jupyter-widgets/controls",
      "_model_module_version": "1.5.0",
      "_model_name": "ProgressStyleModel",
      "_view_count": null,
      "_view_module": "@jupyter-widgets/base",
      "_view_module_version": "1.2.0",
      "_view_name": "StyleView",
      "bar_color": null,
      "description_width": ""
     }
    },
    "bc87e2b000c94afeae0354ca6d39b803": {
     "model_module": "@jupyter-widgets/controls",
     "model_module_version": "1.5.0",
     "model_name": "DescriptionStyleModel",
     "state": {
      "_model_module": "@jupyter-widgets/controls",
      "_model_module_version": "1.5.0",
      "_model_name": "DescriptionStyleModel",
      "_view_count": null,
      "_view_module": "@jupyter-widgets/base",
      "_view_module_version": "1.2.0",
      "_view_name": "StyleView",
      "description_width": ""
     }
    },
    "bd4780dfbdcc4322ad5ab0d648dda950": {
     "model_module": "@jupyter-widgets/controls",
     "model_module_version": "1.5.0",
     "model_name": "ProgressStyleModel",
     "state": {
      "_model_module": "@jupyter-widgets/controls",
      "_model_module_version": "1.5.0",
      "_model_name": "ProgressStyleModel",
      "_view_count": null,
      "_view_module": "@jupyter-widgets/base",
      "_view_module_version": "1.2.0",
      "_view_name": "StyleView",
      "bar_color": null,
      "description_width": ""
     }
    },
    "c0f4aec11bf346c3bb2acf5b6e4e65b4": {
     "model_module": "@jupyter-widgets/controls",
     "model_module_version": "1.5.0",
     "model_name": "FloatProgressModel",
     "state": {
      "_dom_classes": [],
      "_model_module": "@jupyter-widgets/controls",
      "_model_module_version": "1.5.0",
      "_model_name": "FloatProgressModel",
      "_view_count": null,
      "_view_module": "@jupyter-widgets/controls",
      "_view_module_version": "1.5.0",
      "_view_name": "ProgressView",
      "bar_style": "danger",
      "description": "",
      "description_tooltip": null,
      "layout": "IPY_MODEL_f806a7829686489fa934a46445558e6f",
      "max": 30000,
      "min": 0,
      "orientation": "horizontal",
      "style": "IPY_MODEL_992bcd9699e94b37b64a1e40bbed8f9e",
      "value": 29999
     }
    },
    "c2de0a12914f43a6981a0c129c7f9bc8": {
     "model_module": "@jupyter-widgets/controls",
     "model_module_version": "1.5.0",
     "model_name": "DescriptionStyleModel",
     "state": {
      "_model_module": "@jupyter-widgets/controls",
      "_model_module_version": "1.5.0",
      "_model_name": "DescriptionStyleModel",
      "_view_count": null,
      "_view_module": "@jupyter-widgets/base",
      "_view_module_version": "1.2.0",
      "_view_name": "StyleView",
      "description_width": ""
     }
    },
    "c4f4f6427ede4a29986c11a5b2a94771": {
     "model_module": "@jupyter-widgets/base",
     "model_module_version": "1.2.0",
     "model_name": "LayoutModel",
     "state": {
      "_model_module": "@jupyter-widgets/base",
      "_model_module_version": "1.2.0",
      "_model_name": "LayoutModel",
      "_view_count": null,
      "_view_module": "@jupyter-widgets/base",
      "_view_module_version": "1.2.0",
      "_view_name": "LayoutView",
      "align_content": null,
      "align_items": null,
      "align_self": null,
      "border": null,
      "bottom": null,
      "display": null,
      "flex": null,
      "flex_flow": null,
      "grid_area": null,
      "grid_auto_columns": null,
      "grid_auto_flow": null,
      "grid_auto_rows": null,
      "grid_column": null,
      "grid_gap": null,
      "grid_row": null,
      "grid_template_areas": null,
      "grid_template_columns": null,
      "grid_template_rows": null,
      "height": null,
      "justify_content": null,
      "justify_items": null,
      "left": null,
      "margin": null,
      "max_height": null,
      "max_width": null,
      "min_height": null,
      "min_width": null,
      "object_fit": null,
      "object_position": null,
      "order": null,
      "overflow": null,
      "overflow_x": null,
      "overflow_y": null,
      "padding": null,
      "right": null,
      "top": null,
      "visibility": null,
      "width": null
     }
    },
    "c58cdda04e9b4da9a7c9f0239d75a34c": {
     "model_module": "@jupyter-widgets/controls",
     "model_module_version": "1.5.0",
     "model_name": "HTMLModel",
     "state": {
      "_dom_classes": [],
      "_model_module": "@jupyter-widgets/controls",
      "_model_module_version": "1.5.0",
      "_model_name": "HTMLModel",
      "_view_count": null,
      "_view_module": "@jupyter-widgets/controls",
      "_view_module_version": "1.5.0",
      "_view_name": "HTMLView",
      "description": "",
      "description_tooltip": null,
      "layout": "IPY_MODEL_2aa7a89170aa41cdab19316bd1cf863b",
      "placeholder": "​",
      "style": "IPY_MODEL_c2de0a12914f43a6981a0c129c7f9bc8",
      "value": " 29999/30000 [00:10&lt;00:00, 1944.79 examples/s]"
     }
    },
    "d5e34d3eb74a4b9f9f44c02d90d0a7de": {
     "model_module": "@jupyter-widgets/controls",
     "model_module_version": "1.5.0",
     "model_name": "HTMLModel",
     "state": {
      "_dom_classes": [],
      "_model_module": "@jupyter-widgets/controls",
      "_model_module_version": "1.5.0",
      "_model_name": "HTMLModel",
      "_view_count": null,
      "_view_module": "@jupyter-widgets/controls",
      "_view_module_version": "1.5.0",
      "_view_name": "HTMLView",
      "description": "",
      "description_tooltip": null,
      "layout": "IPY_MODEL_22f94c4383e64a579c54c6fec3f3d487",
      "placeholder": "​",
      "style": "IPY_MODEL_def7a8b48680402ea2abcf4629bbfe72",
      "value": " 1/1 [02:01&lt;00:00, 110.68s/ url]"
     }
    },
    "def7a8b48680402ea2abcf4629bbfe72": {
     "model_module": "@jupyter-widgets/controls",
     "model_module_version": "1.5.0",
     "model_name": "DescriptionStyleModel",
     "state": {
      "_model_module": "@jupyter-widgets/controls",
      "_model_module_version": "1.5.0",
      "_model_name": "DescriptionStyleModel",
      "_view_count": null,
      "_view_module": "@jupyter-widgets/base",
      "_view_module_version": "1.2.0",
      "_view_name": "StyleView",
      "description_width": ""
     }
    },
    "e16c3c5b983747d0a2f3e55d1dcd3a97": {
     "model_module": "@jupyter-widgets/controls",
     "model_module_version": "1.5.0",
     "model_name": "HBoxModel",
     "state": {
      "_dom_classes": [],
      "_model_module": "@jupyter-widgets/controls",
      "_model_module_version": "1.5.0",
      "_model_name": "HBoxModel",
      "_view_count": null,
      "_view_module": "@jupyter-widgets/controls",
      "_view_module_version": "1.5.0",
      "_view_name": "HBoxView",
      "box_style": "",
      "children": [
       "IPY_MODEL_b87021c1d4d34a6daa4399991ec97992",
       "IPY_MODEL_6d85fee5a9a142318aef9b5ebe1060b5",
       "IPY_MODEL_d5e34d3eb74a4b9f9f44c02d90d0a7de"
      ],
      "layout": "IPY_MODEL_3b5e2cc251184ab2802a19afeced1a28"
     }
    },
    "e40a93b5426c4bacb13a807a5a7eab0f": {
     "model_module": "@jupyter-widgets/base",
     "model_module_version": "1.2.0",
     "model_name": "LayoutModel",
     "state": {
      "_model_module": "@jupyter-widgets/base",
      "_model_module_version": "1.2.0",
      "_model_name": "LayoutModel",
      "_view_count": null,
      "_view_module": "@jupyter-widgets/base",
      "_view_module_version": "1.2.0",
      "_view_name": "LayoutView",
      "align_content": null,
      "align_items": null,
      "align_self": null,
      "border": null,
      "bottom": null,
      "display": null,
      "flex": null,
      "flex_flow": null,
      "grid_area": null,
      "grid_auto_columns": null,
      "grid_auto_flow": null,
      "grid_auto_rows": null,
      "grid_column": null,
      "grid_gap": null,
      "grid_row": null,
      "grid_template_areas": null,
      "grid_template_columns": null,
      "grid_template_rows": null,
      "height": null,
      "justify_content": null,
      "justify_items": null,
      "left": null,
      "margin": null,
      "max_height": null,
      "max_width": null,
      "min_height": null,
      "min_width": null,
      "object_fit": null,
      "object_position": null,
      "order": null,
      "overflow": null,
      "overflow_x": null,
      "overflow_y": null,
      "padding": null,
      "right": null,
      "top": null,
      "visibility": null,
      "width": null
     }
    },
    "e4e808b74aef4a7d8ba1f6a338bc0e3e": {
     "model_module": "@jupyter-widgets/base",
     "model_module_version": "1.2.0",
     "model_name": "LayoutModel",
     "state": {
      "_model_module": "@jupyter-widgets/base",
      "_model_module_version": "1.2.0",
      "_model_name": "LayoutModel",
      "_view_count": null,
      "_view_module": "@jupyter-widgets/base",
      "_view_module_version": "1.2.0",
      "_view_name": "LayoutView",
      "align_content": null,
      "align_items": null,
      "align_self": null,
      "border": null,
      "bottom": null,
      "display": null,
      "flex": null,
      "flex_flow": null,
      "grid_area": null,
      "grid_auto_columns": null,
      "grid_auto_flow": null,
      "grid_auto_rows": null,
      "grid_column": null,
      "grid_gap": null,
      "grid_row": null,
      "grid_template_areas": null,
      "grid_template_columns": null,
      "grid_template_rows": null,
      "height": null,
      "justify_content": null,
      "justify_items": null,
      "left": null,
      "margin": null,
      "max_height": null,
      "max_width": null,
      "min_height": null,
      "min_width": null,
      "object_fit": null,
      "object_position": null,
      "order": null,
      "overflow": null,
      "overflow_x": null,
      "overflow_y": null,
      "padding": null,
      "right": null,
      "top": null,
      "visibility": null,
      "width": null
     }
    },
    "e94a4fff1ac0407f88fa197c69b9d871": {
     "model_module": "@jupyter-widgets/controls",
     "model_module_version": "1.5.0",
     "model_name": "HTMLModel",
     "state": {
      "_dom_classes": [],
      "_model_module": "@jupyter-widgets/controls",
      "_model_module_version": "1.5.0",
      "_model_name": "HTMLModel",
      "_view_count": null,
      "_view_module": "@jupyter-widgets/controls",
      "_view_module_version": "1.5.0",
      "_view_name": "HTMLView",
      "description": "",
      "description_tooltip": null,
      "layout": "IPY_MODEL_ec6de1dabed94b8f8e3e91565bfcc1b2",
      "placeholder": "​",
      "style": "IPY_MODEL_8962717338014286988b460886483f93",
      "value": "Dl Size...: 100%"
     }
    },
    "ec6de1dabed94b8f8e3e91565bfcc1b2": {
     "model_module": "@jupyter-widgets/base",
     "model_module_version": "1.2.0",
     "model_name": "LayoutModel",
     "state": {
      "_model_module": "@jupyter-widgets/base",
      "_model_module_version": "1.2.0",
      "_model_name": "LayoutModel",
      "_view_count": null,
      "_view_module": "@jupyter-widgets/base",
      "_view_module_version": "1.2.0",
      "_view_name": "LayoutView",
      "align_content": null,
      "align_items": null,
      "align_self": null,
      "border": null,
      "bottom": null,
      "display": null,
      "flex": null,
      "flex_flow": null,
      "grid_area": null,
      "grid_auto_columns": null,
      "grid_auto_flow": null,
      "grid_auto_rows": null,
      "grid_column": null,
      "grid_gap": null,
      "grid_row": null,
      "grid_template_areas": null,
      "grid_template_columns": null,
      "grid_template_rows": null,
      "height": null,
      "justify_content": null,
      "justify_items": null,
      "left": null,
      "margin": null,
      "max_height": null,
      "max_width": null,
      "min_height": null,
      "min_width": null,
      "object_fit": null,
      "object_position": null,
      "order": null,
      "overflow": null,
      "overflow_x": null,
      "overflow_y": null,
      "padding": null,
      "right": null,
      "top": null,
      "visibility": null,
      "width": null
     }
    },
    "ed3636cfd8ab417698f5aba5cfc344a7": {
     "model_module": "@jupyter-widgets/base",
     "model_module_version": "1.2.0",
     "model_name": "LayoutModel",
     "state": {
      "_model_module": "@jupyter-widgets/base",
      "_model_module_version": "1.2.0",
      "_model_name": "LayoutModel",
      "_view_count": null,
      "_view_module": "@jupyter-widgets/base",
      "_view_module_version": "1.2.0",
      "_view_name": "LayoutView",
      "align_content": null,
      "align_items": null,
      "align_self": null,
      "border": null,
      "bottom": null,
      "display": null,
      "flex": null,
      "flex_flow": null,
      "grid_area": null,
      "grid_auto_columns": null,
      "grid_auto_flow": null,
      "grid_auto_rows": null,
      "grid_column": null,
      "grid_gap": null,
      "grid_row": null,
      "grid_template_areas": null,
      "grid_template_columns": null,
      "grid_template_rows": null,
      "height": null,
      "justify_content": null,
      "justify_items": null,
      "left": null,
      "margin": null,
      "max_height": null,
      "max_width": null,
      "min_height": null,
      "min_width": null,
      "object_fit": null,
      "object_position": null,
      "order": null,
      "overflow": null,
      "overflow_x": null,
      "overflow_y": null,
      "padding": null,
      "right": null,
      "top": null,
      "visibility": null,
      "width": "20px"
     }
    },
    "ee0c7b5306c24221891c76b17876dbd4": {
     "model_module": "@jupyter-widgets/controls",
     "model_module_version": "1.5.0",
     "model_name": "HBoxModel",
     "state": {
      "_dom_classes": [],
      "_model_module": "@jupyter-widgets/controls",
      "_model_module_version": "1.5.0",
      "_model_name": "HBoxModel",
      "_view_count": null,
      "_view_module": "@jupyter-widgets/controls",
      "_view_module_version": "1.5.0",
      "_view_name": "HBoxView",
      "box_style": "",
      "children": [
       "IPY_MODEL_e94a4fff1ac0407f88fa197c69b9d871",
       "IPY_MODEL_774c6e0ee62e4096887f9f86896bfdf5",
       "IPY_MODEL_602f1d6fb4534756aff80a573dbe5a28"
      ],
      "layout": "IPY_MODEL_7764a93d41304795a201546edad3677d"
     }
    },
    "f06943067f474292bc7f859e58b95333": {
     "model_module": "@jupyter-widgets/controls",
     "model_module_version": "1.5.0",
     "model_name": "ProgressStyleModel",
     "state": {
      "_model_module": "@jupyter-widgets/controls",
      "_model_module_version": "1.5.0",
      "_model_name": "ProgressStyleModel",
      "_view_count": null,
      "_view_module": "@jupyter-widgets/base",
      "_view_module_version": "1.2.0",
      "_view_name": "StyleView",
      "bar_color": null,
      "description_width": ""
     }
    },
    "f806a7829686489fa934a46445558e6f": {
     "model_module": "@jupyter-widgets/base",
     "model_module_version": "1.2.0",
     "model_name": "LayoutModel",
     "state": {
      "_model_module": "@jupyter-widgets/base",
      "_model_module_version": "1.2.0",
      "_model_name": "LayoutModel",
      "_view_count": null,
      "_view_module": "@jupyter-widgets/base",
      "_view_module_version": "1.2.0",
      "_view_name": "LayoutView",
      "align_content": null,
      "align_items": null,
      "align_self": null,
      "border": null,
      "bottom": null,
      "display": null,
      "flex": null,
      "flex_flow": null,
      "grid_area": null,
      "grid_auto_columns": null,
      "grid_auto_flow": null,
      "grid_auto_rows": null,
      "grid_column": null,
      "grid_gap": null,
      "grid_row": null,
      "grid_template_areas": null,
      "grid_template_columns": null,
      "grid_template_rows": null,
      "height": null,
      "justify_content": null,
      "justify_items": null,
      "left": null,
      "margin": null,
      "max_height": null,
      "max_width": null,
      "min_height": null,
      "min_width": null,
      "object_fit": null,
      "object_position": null,
      "order": null,
      "overflow": null,
      "overflow_x": null,
      "overflow_y": null,
      "padding": null,
      "right": null,
      "top": null,
      "visibility": null,
      "width": null
     }
    }
   }
  }
 },
 "nbformat": 4,
 "nbformat_minor": 4
}
